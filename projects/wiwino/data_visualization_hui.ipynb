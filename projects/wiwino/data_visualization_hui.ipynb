{
 "cells": [
  {
   "cell_type": "markdown",
   "metadata": {},
   "source": [
    "***Q2- We have a limited marketing budget for this year. Which country should we prioritise and why?"
   ]
  },
  {
   "cell_type": "markdown",
   "metadata": {},
   "source": [
    "A: Here we took the \"country\" as primery keyword; then caculated \"average price\", \"average rating\", \"count of wine\" and \"count of wineries\" as parameters for solving this question; then we caculate the \"overall score\" for evaluation: overall score = (Average Price \\ *0.4) + (Average Rating * 0.3) + (Wines count  * 0.2) + (Wineries count * 0.1)"
   ]
  },
  {
   "cell_type": "code",
   "execution_count": 50,
   "metadata": {},
   "outputs": [
    {
     "name": "stdout",
     "output_type": "stream",
     "text": [
      "           country  avg_price  avg_rating  wines_count  wineries_count  \\\n",
      "16      États-Unis      0.268       0.802        0.477           0.413   \n",
      "11          Italie      0.445       0.720        0.646           0.625   \n",
      "4            Chili      0.095       0.785        0.087           0.080   \n",
      "10          Israël      0.002       0.652        0.001           0.002   \n",
      "3        Australie      0.464       1.000        0.206           0.202   \n",
      "12        Moldavie      0.007       0.535        0.000           0.000   \n",
      "6          Espagne      0.249       0.579        0.234           0.262   \n",
      "1        Allemagne      0.249       0.497        0.382           0.197   \n",
      "0   Afrique du Sud      0.053       0.459        0.062           0.057   \n",
      "7           France      1.000       0.751        1.000           1.000   \n",
      "14        Roumanie      0.001       0.326        0.004           0.004   \n",
      "9          Hongrie      0.072       0.397        0.028           0.022   \n",
      "2        Argentine      0.077       0.277        0.074           0.073   \n",
      "8            Grèce      0.089       0.326        0.011           0.013   \n",
      "13        Portugal      0.128       0.224        0.083           0.081   \n",
      "5          Croatie      0.000       0.000        0.002           0.008   \n",
      "15          Suisse      0.089       0.051        0.069           0.051   \n",
      "\n",
      "    overall_score  \n",
      "16          0.670  \n",
      "11          0.630  \n",
      "4           0.623  \n",
      "10          0.595  \n",
      "3           0.576  \n",
      "12          0.558  \n",
      "6           0.547  \n",
      "1           0.546  \n",
      "0           0.534  \n",
      "7           0.525  \n",
      "14          0.499  \n",
      "9           0.498  \n",
      "2           0.474  \n",
      "8           0.465  \n",
      "13          0.441  \n",
      "5           0.401  \n",
      "15          0.399  \n"
     ]
    }
   ],
   "source": [
    "\n",
    "print(df2)"
   ]
  },
  {
   "cell_type": "markdown",
   "metadata": {},
   "source": [
    "***Q4- We detected that a big cluster of customers likes a specific combination of tastes. We identified a few keywords that match these tastes: _coffee_, _toast_, _green apple_, _cream_, and _citrus_ (note that these keywords are case sensitive ⚠️). We would like you to find all the wines that are related to these keywords. Check that **at least 10 users confirm those keywords**, to ensure the accuracy of the selection. Additionally, identify an appropriate group name for this cluster."
   ]
  },
  {
   "cell_type": "code",
   "execution_count": 73,
   "metadata": {},
   "outputs": [
    {
     "name": "stdout",
     "output_type": "stream",
     "text": [
      "                                           wines_name  \\\n",
      "0                                             Vintage   \n",
      "1                                 Trebbiano d'Abruzzo   \n",
      "2                Sir Winston Churchill Brut Champagne   \n",
      "3                Sauternes (Premier Grand Cru Classé)   \n",
      "4                                           Sauternes   \n",
      "5        R.D Extra Brut Champagne (Récemment Dégorgé)   \n",
      "6                         P2 Plénitude Brut Champagne   \n",
      "7                                                  MV   \n",
      "8   Le Mesnil Blanc de Blancs (Cuvée S) Brut Champ...   \n",
      "9                       La Grande Dame Brut Champagne   \n",
      "10                     La Grande Année Brut Champagne   \n",
      "11                                       Grande Cuvée   \n",
      "12         Dom Ruinart Blanc de Blancs Brut Champagne   \n",
      "13             Cuvée des Enchanteleurs Brut Champagne   \n",
      "14                 Cristal Brut Champagne (Millésimé)   \n",
      "15                Comtes de Champagne Blanc de Blancs   \n",
      "16                                     Brut Champagne   \n",
      "17                              Blanc des Millénaires   \n",
      "18                        Belle Epoque Brut Champagne   \n",
      "\n",
      "                                              sunrise countries_name  \\\n",
      "0               citrus,coffee,cream,green apple,toast         France   \n",
      "1               citrus,coffee,cream,green apple,toast         Italie   \n",
      "2               citrus,coffee,cream,green apple,toast         France   \n",
      "3   citrus,citrus,coffee,coffee,cream,cream,green ...         France   \n",
      "4               citrus,coffee,cream,green apple,toast         France   \n",
      "5               citrus,coffee,cream,green apple,toast         France   \n",
      "6               citrus,coffee,cream,green apple,toast         France   \n",
      "7               citrus,coffee,cream,green apple,toast         France   \n",
      "8               citrus,coffee,cream,green apple,toast         France   \n",
      "9               citrus,coffee,cream,green apple,toast         France   \n",
      "10              citrus,coffee,cream,green apple,toast         France   \n",
      "11              citrus,coffee,cream,green apple,toast         France   \n",
      "12              citrus,coffee,cream,green apple,toast         France   \n",
      "13              citrus,coffee,cream,green apple,toast         France   \n",
      "14              citrus,coffee,cream,green apple,toast         France   \n",
      "15              citrus,coffee,cream,green apple,toast         France   \n",
      "16              citrus,coffee,cream,green apple,toast         France   \n",
      "17              citrus,coffee,cream,green apple,toast         France   \n",
      "18              citrus,coffee,cream,green apple,toast         France   \n",
      "\n",
      "    ratings_average  wines_acidity  wines_fizziness  wines_intensity  \\\n",
      "0               4.6       4.515321         4.369318         4.168281   \n",
      "1               4.4       3.928791              NaN         3.347867   \n",
      "2               4.6       4.416958         4.282259         4.049440   \n",
      "3               4.4       4.339853              NaN         4.766678   \n",
      "4               4.7       4.338159              NaN         4.676008   \n",
      "5               4.6       4.476345         4.270804         4.174762   \n",
      "6               4.7       4.272861         4.240509         4.104116   \n",
      "7               4.5       4.218295         4.127606         4.158576   \n",
      "8               4.7       4.508223         4.352797         3.999383   \n",
      "9               4.5       4.434174         4.313677         4.023377   \n",
      "10              4.5       4.367481         4.303719         4.086488   \n",
      "11              4.6       4.360128         4.200160         4.090082   \n",
      "12              4.5       4.258311         4.194206         3.914699   \n",
      "13              4.5       4.442816         4.177443         4.039294   \n",
      "14              4.6       4.416872         4.281761         3.902971   \n",
      "15              4.5       4.404773         4.298936         3.902316   \n",
      "16              4.6       4.364090         4.273593         3.962712   \n",
      "17              4.6       4.454617         4.301032         4.058540   \n",
      "18              4.5       4.355877         4.211760         3.752908   \n",
      "\n",
      "    wines_sweetness  wines_tannin                              regions_name  \n",
      "0               NaN           NaN                                 Champagne  \n",
      "1          2.267138           NaN                       Trebbiano d'Abruzzo  \n",
      "2               NaN           NaN                                 Champagne  \n",
      "3          4.874369           NaN                                 Sauternes  \n",
      "4          4.870302           NaN                                 Sauternes  \n",
      "5               NaN           NaN                                 Champagne  \n",
      "6               NaN           NaN                                 Champagne  \n",
      "7               NaN           NaN                  Champagne Grand Cru 'Aÿ'  \n",
      "8               NaN           NaN  Champagne Grand Cru 'Le Mesnil-sur-Oger'  \n",
      "9               NaN           NaN                                 Champagne  \n",
      "10              NaN           NaN                                 Champagne  \n",
      "11              NaN           NaN                                 Champagne  \n",
      "12              NaN           NaN                                 Champagne  \n",
      "13              NaN           NaN                                 Champagne  \n",
      "14              NaN           NaN                                 Champagne  \n",
      "15              NaN           NaN                                 Champagne  \n",
      "16              NaN           NaN                                 Champagne  \n",
      "17              NaN           NaN                                 Champagne  \n",
      "18              NaN           NaN                                 Champagne  \n"
     ]
    }
   ],
   "source": [
    "df4  = pd.read_csv(\"wines_data.csv\")\n",
    "print(df4)"
   ]
  },
  {
   "cell_type": "markdown",
   "metadata": {},
   "source": [
    "***Q6- We would like to create a country leaderboard. Come up with a visual that shows the **average wine rating for each `country`**. Do the same for the `vintages`."
   ]
  },
  {
   "cell_type": "code",
   "execution_count": 61,
   "metadata": {},
   "outputs": [
    {
     "name": "stdout",
     "output_type": "stream",
     "text": [
      "           country  wines_rating  vintages_rating Flag\n",
      "0   Afrique du Sud      4.440628         4.411231   🇿🇦\n",
      "1        Allemagne      4.452453         4.016705   🇩🇪\n",
      "2        Argentine      4.384797         4.435738   🇦🇷\n",
      "3        Australie      4.606671         4.402497   🇦🇺\n",
      "4            Chili      4.540666         4.506108   🇨🇱\n",
      "5          Croatie      4.300000         4.400000   🇭🇷\n",
      "6          Espagne      4.477488         4.450394   🇪🇸\n",
      "7           France      4.530255         4.505847   🇫🇷\n",
      "8            Grèce      4.400000         3.854054   🇬🇷\n",
      "9          Hongrie      4.421785         4.400565   🇭🇺\n",
      "10          Israël      4.500000         0.000000   🇮🇱\n",
      "11          Italie      4.520767         4.506046   🇮🇹\n",
      "12        Moldavie      4.464139         4.487220   🇲🇩\n",
      "13        Portugal      4.368606         4.444920   🇵🇹\n",
      "14        Roumanie      4.400000         4.500000   🇷🇴\n",
      "15          Suisse      4.315664         4.400000   🇨🇭\n",
      "16      États-Unis      4.545918         4.543589   🇺🇸\n"
     ]
    }
   ],
   "source": [
    "df6 = pd.read_csv(\"rating_per_countries.csv\")\n",
    "flags = {\n",
    "    'Afrique du Sud': '🇿🇦',\n",
    "    'Allemagne': '🇩🇪',\n",
    "    'Argentine': '🇦🇷',\n",
    "    'Australie': '🇦🇺',\n",
    "    'Chili': '🇨🇱',\n",
    "    'Croatie': '🇭🇷',\n",
    "    'Espagne': '🇪🇸',\n",
    "    'France': '🇫🇷',\n",
    "    'Grèce': '🇬🇷',\n",
    "    'Hongrie': '🇭🇺',\n",
    "    'Israël': '🇮🇱',\n",
    "    'Italie': '🇮🇹',\n",
    "    'Moldavie': '🇲🇩',\n",
    "    'Portugal': '🇵🇹',\n",
    "    'Roumanie': '🇷🇴',\n",
    "    'Suisse': '🇨🇭',\n",
    "    'États-Unis': '🇺🇸'\n",
    "}\n",
    "\n",
    "df6['Flag'] = df6['country'].map(flags)\n",
    "\n",
    "\n",
    "print(df6)"
   ]
  },
  {
   "cell_type": "code",
   "execution_count": 62,
   "metadata": {},
   "outputs": [
    {
     "name": "stdout",
     "output_type": "stream",
     "text": [
      "Wine Leaderboard:\n",
      "   Rank Flag         country  wines_rating\n",
      "0     🥇   🇦🇺       Australie      4.606671\n",
      "1     🥈   🇺🇸      États-Unis      4.545918\n",
      "2     🥉   🇨🇱           Chili      4.540666\n",
      "3     4   🇫🇷          France      4.530255\n",
      "4     5   🇮🇹          Italie      4.520767\n",
      "5     6   🇮🇱          Israël      4.500000\n",
      "6     7   🇪🇸         Espagne      4.477488\n",
      "7     8   🇲🇩        Moldavie      4.464139\n",
      "8     9   🇩🇪       Allemagne      4.452453\n",
      "9    10   🇿🇦  Afrique du Sud      4.440628\n",
      "10   11   🇭🇺         Hongrie      4.421785\n",
      "11   12   🇷🇴        Roumanie      4.400000\n",
      "12   13   🇬🇷           Grèce      4.400000\n",
      "13   14   🇦🇷       Argentine      4.384797\n",
      "14   15   🇵🇹        Portugal      4.368606\n",
      "15   16   🇨🇭          Suisse      4.315664\n",
      "16   17   🇭🇷         Croatie      4.300000\n"
     ]
    },
    {
     "name": "stderr",
     "output_type": "stream",
     "text": [
      "/var/folders/89/6dhf64yn68jcjcpqqbkth7jr0000gn/T/ipykernel_19618/3461814283.py:7: FutureWarning: Setting an item of incompatible dtype is deprecated and will raise an error in a future version of pandas. Value '['🥇', '🥈', '🥉']' has dtype incompatible with int64, please explicitly cast to a compatible dtype first.\n",
      "  df_wine.loc[0:2, 'Rank'] = medals[:3]\n"
     ]
    }
   ],
   "source": [
    "# Sort by Wine scores\n",
    "df_wine = df6.sort_values(by='wines_rating', ascending=False).reset_index(drop=True)\n",
    "\n",
    "# Assign ranks with medals\n",
    "medals = ['🥇', '🥈', '🥉']\n",
    "df_wine['Rank'] = range(1, len(df_wine) + 1)\n",
    "df_wine.loc[0:2, 'Rank'] = medals[:3]\n",
    "\n",
    "# Display the leaderboard with flags\n",
    "print(\"Wine Leaderboard:\")\n",
    "print(df_wine[['Rank', 'Flag', 'country', 'wines_rating']])"
   ]
  },
  {
   "cell_type": "code",
   "execution_count": 64,
   "metadata": {},
   "outputs": [
    {
     "name": "stdout",
     "output_type": "stream",
     "text": [
      "Vintage Leaderboard:\n",
      "   Rank Flag         country  vintages_rating\n",
      "0     🥇   🇺🇸      États-Unis         4.543589\n",
      "1     🥈   🇨🇱           Chili         4.506108\n",
      "2     🥉   🇮🇹          Italie         4.506046\n",
      "3     4   🇫🇷          France         4.505847\n",
      "4     5   🇷🇴        Roumanie         4.500000\n",
      "5     6   🇲🇩        Moldavie         4.487220\n",
      "6     7   🇪🇸         Espagne         4.450394\n",
      "7     8   🇵🇹        Portugal         4.444920\n",
      "8     9   🇦🇷       Argentine         4.435738\n",
      "9    10   🇿🇦  Afrique du Sud         4.411231\n",
      "10   11   🇦🇺       Australie         4.402497\n",
      "11   12   🇭🇺         Hongrie         4.400565\n",
      "12   13   🇭🇷         Croatie         4.400000\n",
      "13   14   🇨🇭          Suisse         4.400000\n",
      "14   15   🇩🇪       Allemagne         4.016705\n",
      "15   16   🇬🇷           Grèce         3.854054\n",
      "16   17   🇮🇱          Israël         0.000000\n"
     ]
    },
    {
     "name": "stderr",
     "output_type": "stream",
     "text": [
      "/var/folders/89/6dhf64yn68jcjcpqqbkth7jr0000gn/T/ipykernel_19618/526003278.py:7: FutureWarning: Setting an item of incompatible dtype is deprecated and will raise an error in a future version of pandas. Value '['🥇', '🥈', '🥉']' has dtype incompatible with int64, please explicitly cast to a compatible dtype first.\n",
      "  df_vintage.loc[0:2, 'Rank'] = medals[:3]\n"
     ]
    }
   ],
   "source": [
    "# Sort by vintage scores\n",
    "df_vintage = df6.sort_values(by='vintages_rating', ascending=False).reset_index(drop=True)\n",
    "\n",
    "# Assign ranks with medals\n",
    "medals = ['🥇', '🥈', '🥉']\n",
    "df_vintage['Rank'] = range(1, len(df_vintage) + 1)\n",
    "df_vintage.loc[0:2, 'Rank'] = medals[:3]\n",
    "\n",
    "# Display the leaderboard with flags\n",
    "print(\"Vintage Leaderboard:\")\n",
    "print(df_vintage[['Rank', 'Flag', 'country', 'vintages_rating']])"
   ]
  },
  {
   "cell_type": "code",
   "execution_count": null,
   "metadata": {},
   "outputs": [],
   "source": []
  }
 ],
 "metadata": {
  "kernelspec": {
   "display_name": "Python 3",
   "language": "python",
   "name": "python3"
  },
  "language_info": {
   "codemirror_mode": {
    "name": "ipython",
    "version": 3
   },
   "file_extension": ".py",
   "mimetype": "text/x-python",
   "name": "python",
   "nbconvert_exporter": "python",
   "pygments_lexer": "ipython3",
   "version": "3.11.7"
  }
 },
 "nbformat": 4,
 "nbformat_minor": 2
}
