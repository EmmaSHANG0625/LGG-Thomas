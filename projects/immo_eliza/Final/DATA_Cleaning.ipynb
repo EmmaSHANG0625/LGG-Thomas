{
 "cells": [
  {
   "cell_type": "code",
   "execution_count": 155,
   "metadata": {},
   "outputs": [],
   "source": [
    "#requrements libs\n",
    "import pandas as pd\n",
    "import numpy as np\n",
    "import matplotlib.pyplot as plt\n",
    "import seaborn as sns\n",
    "from sklearn.impute import KNNImputer"
   ]
  },
  {
   "cell_type": "code",
   "execution_count": 165,
   "metadata": {},
   "outputs": [
    {
     "data": {
      "text/html": [
       "<div>\n",
       "<style scoped>\n",
       "    .dataframe tbody tr th:only-of-type {\n",
       "        vertical-align: middle;\n",
       "    }\n",
       "\n",
       "    .dataframe tbody tr th {\n",
       "        vertical-align: top;\n",
       "    }\n",
       "\n",
       "    .dataframe thead th {\n",
       "        text-align: right;\n",
       "    }\n",
       "</style>\n",
       "<table border=\"1\" class=\"dataframe\">\n",
       "  <thead>\n",
       "    <tr style=\"text-align: right;\">\n",
       "      <th></th>\n",
       "      <th>Url</th>\n",
       "      <th>BathroomCount</th>\n",
       "      <th>BedroomCount</th>\n",
       "      <th>ConstructionYear</th>\n",
       "      <th>Country</th>\n",
       "      <th>District</th>\n",
       "      <th>Fireplace</th>\n",
       "      <th>FloodingZone</th>\n",
       "      <th>Furnished</th>\n",
       "      <th>Garden</th>\n",
       "      <th>...</th>\n",
       "      <th>RoomCount</th>\n",
       "      <th>ShowerCount</th>\n",
       "      <th>StateOfBuilding</th>\n",
       "      <th>SubtypeOfProperty</th>\n",
       "      <th>SurfaceOfPlot</th>\n",
       "      <th>SwimmingPool</th>\n",
       "      <th>Terrace</th>\n",
       "      <th>ToiletCount</th>\n",
       "      <th>TypeOfProperty</th>\n",
       "      <th>TypeOfSale</th>\n",
       "    </tr>\n",
       "  </thead>\n",
       "  <tbody>\n",
       "    <tr>\n",
       "      <th>2</th>\n",
       "      <td>https://www.immoweb.be/en/classified/apartment...</td>\n",
       "      <td>1.0</td>\n",
       "      <td>1</td>\n",
       "      <td>1969.0</td>\n",
       "      <td>Belgium</td>\n",
       "      <td>Brugge</td>\n",
       "      <td>NaN</td>\n",
       "      <td>None</td>\n",
       "      <td>NaN</td>\n",
       "      <td>NaN</td>\n",
       "      <td>...</td>\n",
       "      <td>1.0</td>\n",
       "      <td>0.0</td>\n",
       "      <td>GOOD</td>\n",
       "      <td>flat_studio</td>\n",
       "      <td>NaN</td>\n",
       "      <td>NaN</td>\n",
       "      <td>1.0</td>\n",
       "      <td>1.0</td>\n",
       "      <td>2</td>\n",
       "      <td>residential_sale</td>\n",
       "    </tr>\n",
       "    <tr>\n",
       "      <th>6</th>\n",
       "      <td>https://www.immoweb.be/en/classified/house/for...</td>\n",
       "      <td>6.0</td>\n",
       "      <td>13</td>\n",
       "      <td>1920.0</td>\n",
       "      <td>Belgium</td>\n",
       "      <td>Tournai</td>\n",
       "      <td>NaN</td>\n",
       "      <td>None</td>\n",
       "      <td>0.0</td>\n",
       "      <td>NaN</td>\n",
       "      <td>...</td>\n",
       "      <td>31.0</td>\n",
       "      <td>NaN</td>\n",
       "      <td>GOOD</td>\n",
       "      <td>apartment_block</td>\n",
       "      <td>130.0</td>\n",
       "      <td>NaN</td>\n",
       "      <td>NaN</td>\n",
       "      <td>5.0</td>\n",
       "      <td>1</td>\n",
       "      <td>residential_sale</td>\n",
       "    </tr>\n",
       "    <tr>\n",
       "      <th>8</th>\n",
       "      <td>https://www.immoweb.be/en/classified/house/for...</td>\n",
       "      <td>2.0</td>\n",
       "      <td>4</td>\n",
       "      <td>2008.0</td>\n",
       "      <td>Belgium</td>\n",
       "      <td>Brugge</td>\n",
       "      <td>NaN</td>\n",
       "      <td>NON_FLOOD_ZONE</td>\n",
       "      <td>1.0</td>\n",
       "      <td>NaN</td>\n",
       "      <td>...</td>\n",
       "      <td>NaN</td>\n",
       "      <td>0.0</td>\n",
       "      <td>GOOD</td>\n",
       "      <td>house</td>\n",
       "      <td>0.0</td>\n",
       "      <td>NaN</td>\n",
       "      <td>NaN</td>\n",
       "      <td>2.0</td>\n",
       "      <td>1</td>\n",
       "      <td>residential_sale</td>\n",
       "    </tr>\n",
       "    <tr>\n",
       "      <th>10</th>\n",
       "      <td>https://www.immoweb.be/en/classified/house/for...</td>\n",
       "      <td>1.0</td>\n",
       "      <td>4</td>\n",
       "      <td>NaN</td>\n",
       "      <td>Belgium</td>\n",
       "      <td>Veurne</td>\n",
       "      <td>NaN</td>\n",
       "      <td>None</td>\n",
       "      <td>NaN</td>\n",
       "      <td>1.0</td>\n",
       "      <td>...</td>\n",
       "      <td>NaN</td>\n",
       "      <td>NaN</td>\n",
       "      <td>TO_BE_DONE_UP</td>\n",
       "      <td>house</td>\n",
       "      <td>170.0</td>\n",
       "      <td>0.0</td>\n",
       "      <td>1.0</td>\n",
       "      <td>2.0</td>\n",
       "      <td>1</td>\n",
       "      <td>residential_sale</td>\n",
       "    </tr>\n",
       "    <tr>\n",
       "      <th>11</th>\n",
       "      <td>https://www.immoweb.be/en/classified/apartment...</td>\n",
       "      <td>0.0</td>\n",
       "      <td>2</td>\n",
       "      <td>1972.0</td>\n",
       "      <td>Belgium</td>\n",
       "      <td>Hasselt</td>\n",
       "      <td>NaN</td>\n",
       "      <td>NON_FLOOD_ZONE</td>\n",
       "      <td>NaN</td>\n",
       "      <td>NaN</td>\n",
       "      <td>...</td>\n",
       "      <td>1.0</td>\n",
       "      <td>0.0</td>\n",
       "      <td>AS_NEW</td>\n",
       "      <td>apartment</td>\n",
       "      <td>NaN</td>\n",
       "      <td>NaN</td>\n",
       "      <td>1.0</td>\n",
       "      <td>1.0</td>\n",
       "      <td>2</td>\n",
       "      <td>residential_sale</td>\n",
       "    </tr>\n",
       "  </tbody>\n",
       "</table>\n",
       "<p>5 rows × 32 columns</p>\n",
       "</div>"
      ],
      "text/plain": [
       "                                                  Url  BathroomCount  \\\n",
       "2   https://www.immoweb.be/en/classified/apartment...            1.0   \n",
       "6   https://www.immoweb.be/en/classified/house/for...            6.0   \n",
       "8   https://www.immoweb.be/en/classified/house/for...            2.0   \n",
       "10  https://www.immoweb.be/en/classified/house/for...            1.0   \n",
       "11  https://www.immoweb.be/en/classified/apartment...            0.0   \n",
       "\n",
       "    BedroomCount  ConstructionYear  Country District  Fireplace  \\\n",
       "2              1            1969.0  Belgium   Brugge        NaN   \n",
       "6             13            1920.0  Belgium  Tournai        NaN   \n",
       "8              4            2008.0  Belgium   Brugge        NaN   \n",
       "10             4               NaN  Belgium   Veurne        NaN   \n",
       "11             2            1972.0  Belgium  Hasselt        NaN   \n",
       "\n",
       "      FloodingZone  Furnished  Garden  ...  RoomCount ShowerCount  \\\n",
       "2             None        NaN     NaN  ...        1.0         0.0   \n",
       "6             None        0.0     NaN  ...       31.0         NaN   \n",
       "8   NON_FLOOD_ZONE        1.0     NaN  ...        NaN         0.0   \n",
       "10            None        NaN     1.0  ...        NaN         NaN   \n",
       "11  NON_FLOOD_ZONE        NaN     NaN  ...        1.0         0.0   \n",
       "\n",
       "    StateOfBuilding SubtypeOfProperty  SurfaceOfPlot  SwimmingPool Terrace  \\\n",
       "2              GOOD       flat_studio            NaN           NaN     1.0   \n",
       "6              GOOD   apartment_block          130.0           NaN     NaN   \n",
       "8              GOOD             house            0.0           NaN     NaN   \n",
       "10    TO_BE_DONE_UP             house          170.0           0.0     1.0   \n",
       "11           AS_NEW         apartment            NaN           NaN     1.0   \n",
       "\n",
       "    ToiletCount  TypeOfProperty        TypeOfSale  \n",
       "2           1.0               2  residential_sale  \n",
       "6           5.0               1  residential_sale  \n",
       "8           2.0               1  residential_sale  \n",
       "10          2.0               1  residential_sale  \n",
       "11          1.0               2  residential_sale  \n",
       "\n",
       "[5 rows x 32 columns]"
      ]
     },
     "execution_count": 165,
     "metadata": {},
     "output_type": "execute_result"
    }
   ],
   "source": [
    "##from json to csv    \n",
    "df = pd.read_json(\"final_dataset.json\")\n",
    "\n",
    "df.to_csv(\"cleaned_data.csv\", index = False)\n",
    "\n",
    "df.head()\n"
   ]
  },
  {
   "cell_type": "code",
   "execution_count": 166,
   "metadata": {},
   "outputs": [],
   "source": [
    "#organize the index\n",
    "df.index = range(len(df))\n",
    "df.to_csv(\"cleaned_data.csv\", index = True)"
   ]
  },
  {
   "cell_type": "markdown",
   "metadata": {},
   "source": [
    "# URL\n"
   ]
  },
  {
   "cell_type": "code",
   "execution_count": 167,
   "metadata": {},
   "outputs": [],
   "source": [
    "del df['Url']"
   ]
  },
  {
   "cell_type": "markdown",
   "metadata": {},
   "source": [
    "# Changing the name of the COLUMNS"
   ]
  },
  {
   "cell_type": "code",
   "execution_count": 168,
   "metadata": {},
   "outputs": [
    {
     "name": "stdout",
     "output_type": "stream",
     "text": [
      "Index(['bathroom_count', 'bedroom_count', 'construction_year', 'country',\n",
      "       'district', 'fireplace', 'flooding_zone', 'furnished', 'garden',\n",
      "       'garden_area', 'kitchen', 'living_area', 'locality', 'monthly_charges',\n",
      "       'number_of_facades', 'PEB', 'postal_code', 'price', 'property_id',\n",
      "       'province', 'region', 'room_count', 'shower_count', 'state_of_building',\n",
      "       'subtype_of_property', 'surface_of_plot', 'swimming_pool', 'terrace',\n",
      "       'toilet_count', 'type_of_property', 'type_of_sale'],\n",
      "      dtype='object')\n"
     ]
    }
   ],
   "source": [
    "new_column_names = {\n",
    "\n",
    "    'BathroomCount': 'bathroom_count',\n",
    "    'BedroomCount': 'bedroom_count',\n",
    "    'ConstructionYear': 'construction_year',\n",
    "    'Country': 'country',\n",
    "    'District': 'district',\n",
    "    'Fireplace': 'fireplace',\n",
    "    'FloodingZone': 'flooding_zone',\n",
    "    'Furnished': 'furnished',\n",
    "    'Garden': 'garden',\n",
    "    'GardenArea': 'garden_area',\n",
    "    'Kitchen': 'kitchen',\n",
    "    'LivingArea': 'living_area',\n",
    "    'Locality': 'locality',\n",
    "    'MonthlyCharges': 'monthly_charges',\n",
    "    'NumberOfFacades': 'number_of_facades',\n",
    "    'PEB': 'PEB',\n",
    "    'PostalCode': 'postal_code',\n",
    "    'Price': 'price',\n",
    "    'PropertyId': 'property_id',\n",
    "    'Province': 'province',\n",
    "    'Region': 'region',\n",
    "    'RoomCount': 'room_count',\n",
    "    'ShowerCount': 'shower_count',\n",
    "    'StateOfBuilding': 'state_of_building',\n",
    "    'SubtypeOfProperty': 'subtype_of_property',\n",
    "    'SurfaceOfPlot': 'surface_of_plot',\n",
    "    'SwimmingPool': 'swimming_pool',\n",
    "    'Terrace': 'terrace',\n",
    "    'ToiletCount': 'toilet_count',\n",
    "    'TypeOfProperty': 'type_of_property',\n",
    "    'TypeOfSale': 'type_of_sale'\n",
    "}\n",
    "\n",
    "df = df.rename(columns=new_column_names)\n",
    "print(df.columns)\n",
    "df.to_csv(\"cleaned_data.csv\", index = True)"
   ]
  },
  {
   "cell_type": "markdown",
   "metadata": {},
   "source": [
    "# Cheking the columns one by one then search, analys and clean it"
   ]
  },
  {
   "cell_type": "markdown",
   "metadata": {},
   "source": [
    "** Construction Year"
   ]
  },
  {
   "cell_type": "code",
   "execution_count": 170,
   "metadata": {},
   "outputs": [],
   "source": [
    "#isoleted values without data and finding the mean\n",
    "mean_construction_year = df['construction_year'][df['construction_year'].notnull()].mean()\n",
    "#int because take the just year\n",
    "mean_construction_year = int(mean_construction_year)\n",
    "#drop the wrong values\n",
    "df = df.drop(df[df['construction_year'] > 2034].index)\n",
    "#full the nulls with the mean of consyear\n",
    "df['construction_year'] = df['construction_year'].fillna(mean_construction_year)\n",
    "df.to_csv(\"cleaned_data.csv\", index = True)"
   ]
  },
  {
   "cell_type": "code",
   "execution_count": 171,
   "metadata": {},
   "outputs": [],
   "source": [
    "df = df.drop(df[df['price'] < 40000].index)"
   ]
  },
  {
   "cell_type": "code",
   "execution_count": 173,
   "metadata": {},
   "outputs": [],
   "source": [
    "#isoleted values without data and finding the mean\n",
    "mean_living_area = df['living_area'][df['living_area'].notnull()].mean()\n",
    "#int because take the just year\n",
    "mean_living_area = int(mean_living_area)\n",
    "#delete wrong values\n",
    "df = df.drop(df[df['living_area'] > 1000].index)\n",
    "#full the nulls with the mean of consyear\n",
    "df['living_area'] = df['living_area'].fillna(mean_living_area)\n",
    "df.to_csv(\"cleaned_data.csv\", index = True)"
   ]
  },
  {
   "cell_type": "code",
   "execution_count": 172,
   "metadata": {},
   "outputs": [],
   "source": [
    "#delete Fireplace and update\n",
    "del df['fireplace']\n",
    "del df['furnished']\n",
    "\n",
    "\n",
    "df.to_csv(\"cleaned_data.csv\", index = True)\n"
   ]
  },
  {
   "cell_type": "code",
   "execution_count": 174,
   "metadata": {},
   "outputs": [],
   "source": [
    "imputer = KNNImputer(n_neighbors=5)\n",
    "df[['bathroom_count']] = imputer.fit_transform(df[['bathroom_count']])\n",
    "\n",
    "df['bathroom_count'] = df['bathroom_count'].round().astype(int)\n",
    "\n",
    "df.to_csv(\"cleaned_data.csv\", index = True)"
   ]
  },
  {
   "cell_type": "code",
   "execution_count": null,
   "metadata": {},
   "outputs": [],
   "source": [
    "#bathrom count 0 to at least 1 "
   ]
  },
  {
   "cell_type": "code",
   "execution_count": 175,
   "metadata": {},
   "outputs": [
    {
     "data": {
      "text/plain": [
       "False"
      ]
     },
     "execution_count": 175,
     "metadata": {},
     "output_type": "execute_result"
    }
   ],
   "source": [
    "df['bedroom_count'].isnull().any()"
   ]
  },
  {
   "cell_type": "code",
   "execution_count": null,
   "metadata": {},
   "outputs": [],
   "source": [
    "#df_filtered['monthly_charges'].isnull().count()\n",
    "#for facades garden and monthly---just houses - and  - aparments"
   ]
  },
  {
   "cell_type": "code",
   "execution_count": 176,
   "metadata": {},
   "outputs": [],
   "source": [
    "df = df.drop(df[df['number_of_facades'] > 4].index)\n",
    "\n",
    "\n",
    "df.to_csv(\"cleaned_data.csv\", index = True)\n",
    "\n",
    "#for all houses sign 4"
   ]
  },
  {
   "cell_type": "code",
   "execution_count": 177,
   "metadata": {},
   "outputs": [],
   "source": [
    "#Clean the tricky PEB data\n",
    "df = df.drop(df[df['PEB'].isin([\"B_A\", \"A_A+\", \"F_C\", \"F_D\", \"G_C\", \"F_E\", \"E_D\", \"E_C\", \"G_F\"])].index)\n",
    "\n",
    "\n",
    "#Grade the PEB\n",
    "PEB_grade = {\n",
    "   'A++': 9,\n",
    " 'A+': 8,\n",
    " 'A': 7,\n",
    " 'B': 6,\n",
    " 'C': 5,\n",
    " 'D': 4,\n",
    " 'E': 3,\n",
    " 'F': 2,\n",
    " 'G': 1\n",
    "}\n",
    "df['PEB_grade'] = df['PEB'].map(PEB_grade)\n",
    "del df['PEB']\n",
    "df.to_csv(\"cleaned_data.csv\", index = True)"
   ]
  },
  {
   "cell_type": "code",
   "execution_count": 178,
   "metadata": {},
   "outputs": [],
   "source": [
    "imputer = KNNImputer(n_neighbors=5)\n",
    "df[['PEB_grade']] = imputer.fit_transform(df[['PEB_grade']])\n",
    "\n",
    "df['PEB_grade'] = df['PEB_grade'].round().astype(int)\n",
    "\n",
    "df.to_csv(\"cleaned_data.csv\", index = True)"
   ]
  },
  {
   "cell_type": "code",
   "execution_count": 179,
   "metadata": {},
   "outputs": [],
   "source": [
    "del df['shower_count']"
   ]
  },
  {
   "cell_type": "code",
   "execution_count": null,
   "metadata": {},
   "outputs": [],
   "source": [
    "Building_state_grade = {\n",
    "    'GOOD': 4, \n",
    "'AS_NEW': 6,\n",
    "'TO_RENOVATE': 1, \n",
    "'TO_BE_DONE_UP': 3,\n",
    "'JUST_RENOVATED': 5,\n",
    "'TO_RESTORE': 2\n",
    "}\n",
    "df['Building_state_grade'] =df['state_of_building'].map(Building_state_grade)\n",
    "del df['state_of_building']\n",
    "df.to_csv('cleaned_data.csv', index=True)\n",
    "\n"
   ]
  },
  {
   "cell_type": "code",
   "execution_count": 199,
   "metadata": {},
   "outputs": [],
   "source": [
    "imputer = KNNImputer(n_neighbors=5)\n",
    "df[['Building_state_grade']] = imputer.fit_transform(df[['Building_state_grade']])\n",
    "\n",
    "df['Building_state_grade'] = df['Building_state_grade'].round().astype(int)\n",
    "df.to_csv('cleaned_data.csv', index=True)"
   ]
  },
  {
   "cell_type": "code",
   "execution_count": 183,
   "metadata": {},
   "outputs": [],
   "source": [
    "#surface_of_plot at least equal to living area\n",
    "df.loc[df['surface_of_plot'].isna(), 'surface_of_plot'] = df['living_area']\n",
    "\n",
    "df.to_csv('cleaned_data.csv', index=True)"
   ]
  },
  {
   "cell_type": "code",
   "execution_count": null,
   "metadata": {},
   "outputs": [],
   "source": [
    "#swimmingpool False-True\n",
    "\n",
    "df[\"swimming_pool\"].fillna(0, inplace = True)\n",
    "df.to_csv('cleaned_data.csv', index=True)"
   ]
  },
  {
   "cell_type": "code",
   "execution_count": 195,
   "metadata": {},
   "outputs": [
    {
     "data": {
      "text/plain": [
       "type_of_sale\n",
       "residential_sale    104405\n",
       "Name: count, dtype: int64"
      ]
     },
     "execution_count": 195,
     "metadata": {},
     "output_type": "execute_result"
    }
   ],
   "source": [
    "df = df[df['type_of_sale'] == 'residential_sale']\n",
    "\n",
    "df['type_of_sale'].value_counts()"
   ]
  },
  {
   "cell_type": "code",
   "execution_count": null,
   "metadata": {},
   "outputs": [],
   "source": [
    "del df['flooding_zone']\n",
    "del df['monthly_charges']\n",
    "df.to_csv(\"cleaned_data.csv\", index = True)"
   ]
  },
  {
   "cell_type": "code",
   "execution_count": 194,
   "metadata": {},
   "outputs": [],
   "source": [
    "del df['monthly_charges']\n",
    "df.to_csv(\"cleaned_data.csv\", index = True)"
   ]
  },
  {
   "cell_type": "code",
   "execution_count": 200,
   "metadata": {},
   "outputs": [],
   "source": [
    "# Aykırı değerleri belirlemek için IQR kullanımı\n",
    "Q1 = df['room_count'].quantile(0.25)\n",
    "Q3 = df['room_count'].quantile(0.75)\n",
    "IQR = Q3 - Q1\n",
    "lower_bound = Q1 - 1.5 * IQR\n",
    "upper_bound = Q3 + 1.5 * IQR\n",
    "\n",
    "# Aykırı değerleri filtreleyin\n",
    "df_filtered = df[(df['room_count'] >= lower_bound) & (df['room_count'] <= upper_bound)]\n",
    "\n",
    "df_filtered.to_csv(\"cleaned_data.csv\", index = True)"
   ]
  },
  {
   "cell_type": "code",
   "execution_count": 201,
   "metadata": {},
   "outputs": [],
   "source": [
    "houses = df_filtered[df_filtered['type_of_property'] == 1]\n",
    "appartments = df_filtered[df_filtered['type_of_property'] == 2]\n",
    "houses.to_csv('df_houses.csv')\n",
    "appartments.to_csv('df_appartments.csv')\n",
    "\n"
   ]
  }
 ],
 "metadata": {
  "kernelspec": {
   "display_name": "Python 3",
   "language": "python",
   "name": "python3"
  },
  "language_info": {
   "codemirror_mode": {
    "name": "ipython",
    "version": 3
   },
   "file_extension": ".py",
   "mimetype": "text/x-python",
   "name": "python",
   "nbconvert_exporter": "python",
   "pygments_lexer": "ipython3",
   "version": "3.12.4"
  }
 },
 "nbformat": 4,
 "nbformat_minor": 2
}
