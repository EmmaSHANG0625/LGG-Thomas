{
 "cells": [
  {
   "cell_type": "code",
   "execution_count": 1,
   "metadata": {},
   "outputs": [],
   "source": [
    "import pandas as pd "
   ]
  },
  {
   "cell_type": "code",
   "execution_count": 2,
   "metadata": {},
   "outputs": [],
   "source": [
    "df = pd.read_json('final_dataset.json')\n"
   ]
  },
  {
   "cell_type": "code",
   "execution_count": 3,
   "metadata": {},
   "outputs": [],
   "source": [
    "df.to_csv('final_dataset.csv')\n",
    "\n",
    "df2 = pd.read_csv('final_dataset.csv')\n",
    "\n",
    "\n"
   ]
  },
  {
   "cell_type": "markdown",
   "metadata": {},
   "source": [
    "#Data cleaning\n",
    "- No duplicates\n",
    "- No blank spaces (ex: `\" I love python \"` => `\"I love python\"`)\n",
    "- No errors\n",
    "- No empty values\n"
   ]
  },
  {
   "cell_type": "code",
   "execution_count": 4,
   "metadata": {},
   "outputs": [
    {
     "name": "stdout",
     "output_type": "stream",
     "text": [
      "<class 'pandas.core.frame.DataFrame'>\n",
      "RangeIndex: 118714 entries, 0 to 118713\n",
      "Data columns (total 33 columns):\n",
      " #   Column             Non-Null Count   Dtype  \n",
      "---  ------             --------------   -----  \n",
      " 0   Unnamed: 0         118714 non-null  int64  \n",
      " 1   Url                118714 non-null  object \n",
      " 2   BathroomCount      109112 non-null  float64\n",
      " 3   BedroomCount       118714 non-null  int64  \n",
      " 4   ConstructionYear   68898 non-null   float64\n",
      " 5   Country            118714 non-null  object \n",
      " 6   District           118707 non-null  object \n",
      " 7   Fireplace          4123 non-null    float64\n",
      " 8   FloodingZone       58342 non-null   object \n",
      " 9   Furnished          30325 non-null   float64\n",
      " 10  Garden             22503 non-null   float64\n",
      " 11  GardenArea         22503 non-null   float64\n",
      " 12  Kitchen            67134 non-null   object \n",
      " 13  LivingArea         104539 non-null  float64\n",
      " 14  Locality           118709 non-null  object \n",
      " 15  MonthlyCharges     13650 non-null   float64\n",
      " 16  NumberOfFacades    76942 non-null   float64\n",
      " 17  PEB                85074 non-null   object \n",
      " 18  PostalCode         118714 non-null  int64  \n",
      " 19  Price              118714 non-null  int64  \n",
      " 20  PropertyId         118714 non-null  int64  \n",
      " 21  Province           118707 non-null  object \n",
      " 22  Region             118707 non-null  object \n",
      " 23  RoomCount          32916 non-null   float64\n",
      " 24  ShowerCount        57127 non-null   float64\n",
      " 25  StateOfBuilding    81622 non-null   object \n",
      " 26  SubtypeOfProperty  118714 non-null  object \n",
      " 27  SurfaceOfPlot      58237 non-null   float64\n",
      " 28  SwimmingPool       40358 non-null   float64\n",
      " 29  Terrace            68344 non-null   float64\n",
      " 30  ToiletCount        96441 non-null   float64\n",
      " 31  TypeOfProperty     118714 non-null  int64  \n",
      " 32  TypeOfSale         118714 non-null  object \n",
      "dtypes: float64(15), int64(6), object(12)\n",
      "memory usage: 29.9+ MB\n"
     ]
    }
   ],
   "source": [
    "df = df2.drop_duplicates()\n",
    "df.info()"
   ]
  },
  {
   "cell_type": "code",
   "execution_count": 5,
   "metadata": {},
   "outputs": [
    {
     "name": "stdout",
     "output_type": "stream",
     "text": [
      "Index(['Unnamed: 0', 'Url', 'bathroom_count', 'bedroom_count',\n",
      "       'construction_year', 'country', 'district', 'fireplace',\n",
      "       'flooding_zone', 'furnished', 'garden', 'garden_area', 'kitchen',\n",
      "       'living_area', 'locality', 'monthly_charges', 'number_of_facades',\n",
      "       'PEB', 'postal_code', 'price', 'property_id', 'province', 'region',\n",
      "       'room_count', 'shower_count', 'state_of_building',\n",
      "       'subtype_of_property', 'surface_of_plot', 'swimming_pool', 'terrace',\n",
      "       'toilet_count', 'type_of_property', 'type_of_sale'],\n",
      "      dtype='object')\n"
     ]
    }
   ],
   "source": [
    "#change column names\n",
    "new_column_names = {\n",
    "\n",
    "    'BathroomCount': 'bathroom_count',\n",
    "    'BedroomCount': 'bedroom_count',\n",
    "    'ConstructionYear': 'construction_year',\n",
    "    'Country': 'country',\n",
    "    'District': 'district',\n",
    "    'Fireplace': 'fireplace',\n",
    "    'FloodingZone': 'flooding_zone',\n",
    "    'Furnished': 'furnished',\n",
    "    'Garden': 'garden',\n",
    "    'GardenArea': 'garden_area',\n",
    "    'Kitchen': 'kitchen',\n",
    "    'LivingArea': 'living_area',\n",
    "    'Locality': 'locality',\n",
    "    'MonthlyCharges': 'monthly_charges',\n",
    "    'NumberOfFacades': 'number_of_facades',\n",
    "    'PEB': 'PEB',\n",
    "    'PostalCode': 'postal_code',\n",
    "    'Price': 'price',\n",
    "    'PropertyId': 'property_id',\n",
    "    'Province': 'province',\n",
    "    'Region': 'region',\n",
    "    'RoomCount': 'room_count',\n",
    "    'ShowerCount': 'shower_count',\n",
    "    'StateOfBuilding': 'state_of_building',\n",
    "    'SubtypeOfProperty': 'subtype_of_property',\n",
    "    'SurfaceOfPlot': 'surface_of_plot',\n",
    "    'SwimmingPool': 'swimming_pool',\n",
    "    'Terrace': 'terrace',\n",
    "    'ToiletCount': 'toilet_count',\n",
    "    'TypeOfProperty': 'type_of_property',\n",
    "    'TypeOfSale': 'type_of_sale'\n",
    "}\n",
    "\n",
    "df = df.rename(columns=new_column_names)\n",
    "df.to_csv(\"Hui.csv\", index = True)\n",
    "print(df.columns)"
   ]
  },
  {
   "cell_type": "code",
   "execution_count": 6,
   "metadata": {},
   "outputs": [
    {
     "data": {
      "text/plain": [
       "Unnamed: 0                  0\n",
       "Url                         0\n",
       "bathroom_count           9602\n",
       "bedroom_count               0\n",
       "construction_year       49816\n",
       "country                     0\n",
       "district                    7\n",
       "fireplace              114591\n",
       "flooding_zone           60372\n",
       "furnished               88389\n",
       "garden                  96211\n",
       "garden_area             96211\n",
       "kitchen                 51580\n",
       "living_area             14175\n",
       "locality                    5\n",
       "monthly_charges        105064\n",
       "number_of_facades       41772\n",
       "PEB                     33640\n",
       "postal_code                 0\n",
       "price                       0\n",
       "property_id                 0\n",
       "province                    7\n",
       "region                      7\n",
       "room_count              85798\n",
       "shower_count            61587\n",
       "state_of_building       37092\n",
       "subtype_of_property         0\n",
       "surface_of_plot         60477\n",
       "swimming_pool           78356\n",
       "terrace                 50370\n",
       "toilet_count            22273\n",
       "type_of_property            0\n",
       "type_of_sale                0\n",
       "dtype: int64"
      ]
     },
     "execution_count": 6,
     "metadata": {},
     "output_type": "execute_result"
    }
   ],
   "source": [
    "#check null values\n",
    "df.isnull().sum()"
   ]
  },
  {
   "cell_type": "markdown",
   "metadata": {},
   "source": [
    "Check each column "
   ]
  },
  {
   "cell_type": "code",
   "execution_count": 7,
   "metadata": {},
   "outputs": [],
   "source": [
    "column_to_drop = 'price'\n",
    "dropped_column = df[column_to_drop]\n",
    "df = df.drop(columns=[column_to_drop])"
   ]
  },
  {
   "cell_type": "code",
   "execution_count": 8,
   "metadata": {},
   "outputs": [],
   "source": [
    "#del df['Url']\n",
    "#delete Fireplace and update\n",
    "del df['fireplace']\n",
    "del df['furnished']\n",
    "\n",
    "\n",
    "df.to_csv(\"Hui.csv\", index = True)\n"
   ]
  },
  {
   "cell_type": "code",
   "execution_count": 9,
   "metadata": {},
   "outputs": [],
   "source": [
    "from sklearn.impute import KNNImputer"
   ]
  },
  {
   "cell_type": "code",
   "execution_count": 10,
   "metadata": {},
   "outputs": [],
   "source": [
    "#fill empty value of 'bathroom'\n",
    "imputer = KNNImputer(n_neighbors=20)\n",
    "df[['bathroom_count']] = imputer.fit_transform(df[['bathroom_count']])\n",
    "\n",
    "df['bathroom_count'] = df['bathroom_count'].round().astype(int)\n",
    "\n",
    "df.to_csv(\"Hui.csv\", index = True)"
   ]
  },
  {
   "cell_type": "code",
   "execution_count": 11,
   "metadata": {},
   "outputs": [
    {
     "data": {
      "text/plain": [
       "np.False_"
      ]
     },
     "execution_count": 11,
     "metadata": {},
     "output_type": "execute_result"
    }
   ],
   "source": [
    "df['bedroom_count'].isnull().any()"
   ]
  },
  {
   "cell_type": "code",
   "execution_count": 12,
   "metadata": {},
   "outputs": [],
   "source": [
    "#check construction year\n",
    "df = df.drop(df[df['construction_year'] > 2034].index)\n",
    "#fill empty value of 'construction_year'\n",
    "imputer = KNNImputer(n_neighbors=20)\n",
    "df[['construction_year']] = imputer.fit_transform(df[['construction_year']])\n",
    "\n",
    "df['construction_year'] = df['construction_year'].round().astype(int)\n",
    "\n",
    "df.to_csv(\"Hui.csv\", index = True)"
   ]
  },
  {
   "cell_type": "code",
   "execution_count": 13,
   "metadata": {},
   "outputs": [
    {
     "name": "stdout",
     "output_type": "stream",
     "text": [
      "flooding_zone\n",
      "NON_FLOOD_ZONE                                     55997\n",
      "POSSIBLE_FLOOD_ZONE                                 1519\n",
      "RECOGNIZED_FLOOD_ZONE                                644\n",
      "CIRCUMSCRIBED_WATERSIDE_ZONE                          59\n",
      "POSSIBLE_N_CIRCUMSCRIBED_FLOOD_ZONE                   49\n",
      "CIRCUMSCRIBED_FLOOD_ZONE                              34\n",
      "RECOGNIZED_N_CIRCUMSCRIBED_FLOOD_ZONE                 24\n",
      "POSSIBLE_N_CIRCUMSCRIBED_WATERSIDE_ZONE                9\n",
      "RECOGNIZED_N_CIRCUMSCRIBED_WATERSIDE_FLOOD_ZONE        6\n",
      "Name: count, dtype: int64 60371\n"
     ]
    }
   ],
   "source": [
    "#check 'flooding_zone'\n",
    "flooding_zone_values = df['flooding_zone'].value_counts()\n",
    "num_null_flooding_zone = df['flooding_zone'].isnull().sum()\n",
    "print(flooding_zone_values, num_null_flooding_zone)"
   ]
  },
  {
   "cell_type": "code",
   "execution_count": 14,
   "metadata": {},
   "outputs": [
    {
     "name": "stdout",
     "output_type": "stream",
     "text": [
      "garden\n",
      "1.0    22503\n",
      "Name: count, dtype: int64 96209\n"
     ]
    }
   ],
   "source": [
    "#Check 'garden'\n",
    "garden_values = df['garden'].value_counts()\n",
    "num_null_garden = df['garden'].isnull().sum()\n",
    "print(garden_values, num_null_garden)"
   ]
  },
  {
   "cell_type": "code",
   "execution_count": 15,
   "metadata": {},
   "outputs": [
    {
     "name": "stderr",
     "output_type": "stream",
     "text": [
      "/var/folders/89/6dhf64yn68jcjcpqqbkth7jr0000gn/T/ipykernel_30265/1725131852.py:6: FutureWarning: A value is trying to be set on a copy of a DataFrame or Series through chained assignment using an inplace method.\n",
      "The behavior will change in pandas 3.0. This inplace method will never work because the intermediate object on which we are setting values always behaves as a copy.\n",
      "\n",
      "For example, when doing 'df[col].method(value, inplace=True)', try using 'df.method({col: value}, inplace=True)' or df[col] = df[col].method(value) instead, to perform the operation inplace on the original object.\n",
      "\n",
      "\n",
      "  df['garden'].fillna(0, inplace=True)\n"
     ]
    }
   ],
   "source": [
    "df.loc[df['type_of_property'] == 2, 'garden'] = 0\n",
    "\n",
    "condition = df['garden'].isnull() & (df['surface_of_plot'] != df['living_area'])\n",
    "df.loc[condition, 'garden'] = 1\n",
    "\n",
    "df['garden'].fillna(0, inplace=True)\n",
    "\n",
    "df.to_csv(\"Hui.csv\", index = True)"
   ]
  },
  {
   "cell_type": "code",
   "execution_count": 16,
   "metadata": {},
   "outputs": [
    {
     "name": "stdout",
     "output_type": "stream",
     "text": [
      "garden_area\n",
      "1.0       2070\n",
      "100.0      600\n",
      "50.0       480\n",
      "200.0      472\n",
      "300.0      388\n",
      "          ... \n",
      "1612.0       1\n",
      "1007.0       1\n",
      "706.0        1\n",
      "1161.0       1\n",
      "4179.0       1\n",
      "Name: count, Length: 1875, dtype: int64 96209\n"
     ]
    }
   ],
   "source": [
    "#check 'garden_area'\n",
    "garden_area_values = df['garden_area'].value_counts()\n",
    "num_null_garden_area = df['garden_area'].isnull().sum()\n",
    "print(garden_area_values, num_null_garden_area)"
   ]
  },
  {
   "cell_type": "code",
   "execution_count": 17,
   "metadata": {},
   "outputs": [
    {
     "name": "stdout",
     "output_type": "stream",
     "text": [
      "kitchen\n",
      "INSTALLED             32623\n",
      "HYPER_EQUIPPED        19772\n",
      "SEMI_EQUIPPED          7810\n",
      "NOT_INSTALLED          3897\n",
      "USA_HYPER_EQUIPPED     1438\n",
      "USA_INSTALLED          1288\n",
      "USA_SEMI_EQUIPPED       201\n",
      "USA_UNINSTALLED         104\n",
      "Name: count, dtype: int64 51579\n"
     ]
    }
   ],
   "source": [
    "#check 'kitchen'\n",
    "kitchen_values = df['kitchen'].value_counts()\n",
    "num_null_kitchen = df['kitchen'].isnull().sum()\n",
    "print(kitchen_values, num_null_kitchen)"
   ]
  },
  {
   "cell_type": "code",
   "execution_count": 18,
   "metadata": {},
   "outputs": [],
   "source": [
    "#convert str to numbers for 'kitchen'\n",
    "import numpy as np\n",
    "from sklearn.preprocessing import OneHotEncoder"
   ]
  },
  {
   "cell_type": "code",
   "execution_count": null,
   "metadata": {},
   "outputs": [],
   "source": [
    "\n",
    "# Create OneHotEncoder instances\n",
    "#ohe = OneHotEncoder(handle_unknown = \"ignore\")\n",
    "#drop_ohe = OneHotEncoder(drop = 'first')\n",
    "#ohe.fit_transform(df[['kitchen']]).toarray()\n",
    "#feature_array = ohe.fit_transform(df[['kitchen']]).toarry()\n",
    "#print(feature_array)\n",
    "#ohe.categories_\n",
    "#feature_labels = ohe.categories_\n",
    "#np.array(feature_labels).ravel()\n",
    "#print(feature_labels)\n",
    "#pd.DataFrame(feature_array, columns = feature_labels)\n",
    "#print(features)\n",
    "#pd.concat([df, features], axis = 1)\n"
   ]
  },
  {
   "cell_type": "code",
   "execution_count": 19,
   "metadata": {},
   "outputs": [],
   "source": [
    "#check 'living_area'\n",
    "#delete wrong values\n",
    "df = df.drop(df[df['living_area'] > 1000].index)"
   ]
  },
  {
   "cell_type": "code",
   "execution_count": 20,
   "metadata": {},
   "outputs": [],
   "source": [
    "#fill empty value of 'living_area'\n",
    "imputer = KNNImputer(n_neighbors=20)\n",
    "df[['living_area']] = imputer.fit_transform(df[['living_area']])\n",
    "\n",
    "df['living_area'] = df['living_area'].round().astype(int)\n",
    "\n",
    "df.to_csv(\"Hui.csv\", index = True)"
   ]
  },
  {
   "cell_type": "code",
   "execution_count": 21,
   "metadata": {},
   "outputs": [],
   "source": [
    "del df['monthly_charges']\n"
   ]
  },
  {
   "cell_type": "code",
   "execution_count": 22,
   "metadata": {},
   "outputs": [],
   "source": [
    "del df['shower_count']"
   ]
  },
  {
   "cell_type": "code",
   "execution_count": 23,
   "metadata": {},
   "outputs": [],
   "source": [
    "del df['locality']\n",
    "df.to_csv(\"Hui.csv\", index = True)"
   ]
  },
  {
   "cell_type": "code",
   "execution_count": 24,
   "metadata": {},
   "outputs": [],
   "source": [
    "del df['country']\n",
    "df.to_csv(\"Hui.csv\", index = True)"
   ]
  },
  {
   "cell_type": "code",
   "execution_count": 25,
   "metadata": {},
   "outputs": [],
   "source": [
    "#check 'number_of_facades'\n",
    "df = df.drop(df[df['number_of_facades'] > 4].index)\n",
    "\n",
    "\n",
    "df.to_csv(\"Hui.csv\", index = True)\n"
   ]
  },
  {
   "cell_type": "code",
   "execution_count": 26,
   "metadata": {},
   "outputs": [],
   "source": [
    "#fill empty value of 'number_of_facades'\n",
    "imputer = KNNImputer(n_neighbors=20)\n",
    "df[['number_of_facades']] = imputer.fit_transform(df[['number_of_facades']])\n",
    "\n",
    "df['number_of_facades'] = df['number_of_facades'].round().astype(int)\n",
    "\n",
    "df.to_csv(\"Hui.csv\", index = True)"
   ]
  },
  {
   "cell_type": "code",
   "execution_count": 27,
   "metadata": {},
   "outputs": [
    {
     "name": "stdout",
     "output_type": "stream",
     "text": [
      "       Unnamed: 0                                                Url  \\\n",
      "59588       80023  https://www.immoweb.be/en/classified/apartment...   \n",
      "61035       81674  https://www.immoweb.be/en/classified/apartment...   \n",
      "61042       81681  https://www.immoweb.be/en/classified/apartment...   \n",
      "81496      106153  https://www.immoweb.be/en/classified/apartment...   \n",
      "84229      109589  https://www.immoweb.be/en/classified/apartment...   \n",
      "89496      116348  https://www.immoweb.be/en/classified/apartment...   \n",
      "89783      116689  https://www.immoweb.be/en/classified/apartment...   \n",
      "\n",
      "       bathroom_count  bedroom_count  construction_year district  \\\n",
      "59588               1              3               1987      NaN   \n",
      "61035               1              1               1987      NaN   \n",
      "61042               1              1               1987      NaN   \n",
      "81496               1              1               1987      NaN   \n",
      "84229               2              3               2020      NaN   \n",
      "89496               2              2               2020      NaN   \n",
      "89783               2              3               2020      NaN   \n",
      "\n",
      "        flooding_zone  garden  garden_area kitchen  ...  region  room_count  \\\n",
      "59588  NON_FLOOD_ZONE     0.0          NaN     NaN  ...     NaN         NaN   \n",
      "61035             NaN     0.0          NaN     NaN  ...     NaN         NaN   \n",
      "61042             NaN     0.0          NaN     NaN  ...     NaN         NaN   \n",
      "81496             NaN     0.0          NaN     NaN  ...     NaN         4.0   \n",
      "84229  NON_FLOOD_ZONE     0.0          NaN     NaN  ...     NaN         1.0   \n",
      "89496  NON_FLOOD_ZONE     0.0          NaN     NaN  ...     NaN         3.0   \n",
      "89783  NON_FLOOD_ZONE     0.0          NaN     NaN  ...     NaN         4.0   \n",
      "\n",
      "      state_of_building  subtype_of_property  surface_of_plot swimming_pool  \\\n",
      "59588               NaN            apartment              NaN           0.0   \n",
      "61035               NaN          flat_studio              NaN           NaN   \n",
      "61042               NaN          flat_studio              NaN           NaN   \n",
      "81496              GOOD            apartment              NaN           NaN   \n",
      "84229            AS_NEW            apartment              NaN           1.0   \n",
      "89496            AS_NEW            apartment              NaN           1.0   \n",
      "89783              GOOD            apartment              NaN           1.0   \n",
      "\n",
      "      terrace  toilet_count type_of_property              type_of_sale  \n",
      "59588     NaN           NaN                2          residential_sale  \n",
      "61035     1.0           NaN                2          residential_sale  \n",
      "61042     1.0           NaN                2          residential_sale  \n",
      "81496     NaN           1.0                2  residential_monthly_rent  \n",
      "84229     1.0           0.0                2          residential_sale  \n",
      "89496     1.0           3.0                2          residential_sale  \n",
      "89783     1.0           0.0                2          residential_sale  \n",
      "\n",
      "[7 rows x 26 columns]\n"
     ]
    }
   ],
   "source": [
    "#check 'Province'\n",
    "filtered_Province = df[df['province'].isna()==1]\n",
    "print(filtered_Province)\n",
    "#filtered_Province['Url'].tolist()"
   ]
  },
  {
   "cell_type": "code",
   "execution_count": 28,
   "metadata": {},
   "outputs": [
    {
     "data": {
      "text/html": [
       "<div>\n",
       "<style scoped>\n",
       "    .dataframe tbody tr th:only-of-type {\n",
       "        vertical-align: middle;\n",
       "    }\n",
       "\n",
       "    .dataframe tbody tr th {\n",
       "        vertical-align: top;\n",
       "    }\n",
       "\n",
       "    .dataframe thead th {\n",
       "        text-align: right;\n",
       "    }\n",
       "</style>\n",
       "<table border=\"1\" class=\"dataframe\">\n",
       "  <thead>\n",
       "    <tr style=\"text-align: right;\">\n",
       "      <th></th>\n",
       "      <th>Unnamed: 0</th>\n",
       "      <th>Url</th>\n",
       "      <th>bathroom_count</th>\n",
       "      <th>bedroom_count</th>\n",
       "      <th>construction_year</th>\n",
       "      <th>district</th>\n",
       "      <th>flooding_zone</th>\n",
       "      <th>garden</th>\n",
       "      <th>garden_area</th>\n",
       "      <th>kitchen</th>\n",
       "      <th>...</th>\n",
       "      <th>region</th>\n",
       "      <th>room_count</th>\n",
       "      <th>state_of_building</th>\n",
       "      <th>subtype_of_property</th>\n",
       "      <th>surface_of_plot</th>\n",
       "      <th>swimming_pool</th>\n",
       "      <th>terrace</th>\n",
       "      <th>toilet_count</th>\n",
       "      <th>type_of_property</th>\n",
       "      <th>type_of_sale</th>\n",
       "    </tr>\n",
       "  </thead>\n",
       "  <tbody>\n",
       "    <tr>\n",
       "      <th>61035</th>\n",
       "      <td>81674</td>\n",
       "      <td>https://www.immoweb.be/en/classified/apartment...</td>\n",
       "      <td>1</td>\n",
       "      <td>1</td>\n",
       "      <td>1987</td>\n",
       "      <td>NaN</td>\n",
       "      <td>NaN</td>\n",
       "      <td>0.0</td>\n",
       "      <td>NaN</td>\n",
       "      <td>NaN</td>\n",
       "      <td>...</td>\n",
       "      <td>NaN</td>\n",
       "      <td>NaN</td>\n",
       "      <td>NaN</td>\n",
       "      <td>flat_studio</td>\n",
       "      <td>NaN</td>\n",
       "      <td>NaN</td>\n",
       "      <td>1.0</td>\n",
       "      <td>NaN</td>\n",
       "      <td>2</td>\n",
       "      <td>residential_sale</td>\n",
       "    </tr>\n",
       "    <tr>\n",
       "      <th>61042</th>\n",
       "      <td>81681</td>\n",
       "      <td>https://www.immoweb.be/en/classified/apartment...</td>\n",
       "      <td>1</td>\n",
       "      <td>1</td>\n",
       "      <td>1987</td>\n",
       "      <td>NaN</td>\n",
       "      <td>NaN</td>\n",
       "      <td>0.0</td>\n",
       "      <td>NaN</td>\n",
       "      <td>NaN</td>\n",
       "      <td>...</td>\n",
       "      <td>NaN</td>\n",
       "      <td>NaN</td>\n",
       "      <td>NaN</td>\n",
       "      <td>flat_studio</td>\n",
       "      <td>NaN</td>\n",
       "      <td>NaN</td>\n",
       "      <td>1.0</td>\n",
       "      <td>NaN</td>\n",
       "      <td>2</td>\n",
       "      <td>residential_sale</td>\n",
       "    </tr>\n",
       "    <tr>\n",
       "      <th>81496</th>\n",
       "      <td>106153</td>\n",
       "      <td>https://www.immoweb.be/en/classified/apartment...</td>\n",
       "      <td>1</td>\n",
       "      <td>1</td>\n",
       "      <td>1987</td>\n",
       "      <td>NaN</td>\n",
       "      <td>NaN</td>\n",
       "      <td>0.0</td>\n",
       "      <td>NaN</td>\n",
       "      <td>NaN</td>\n",
       "      <td>...</td>\n",
       "      <td>NaN</td>\n",
       "      <td>4.0</td>\n",
       "      <td>GOOD</td>\n",
       "      <td>apartment</td>\n",
       "      <td>NaN</td>\n",
       "      <td>NaN</td>\n",
       "      <td>NaN</td>\n",
       "      <td>1.0</td>\n",
       "      <td>2</td>\n",
       "      <td>residential_monthly_rent</td>\n",
       "    </tr>\n",
       "  </tbody>\n",
       "</table>\n",
       "<p>3 rows × 26 columns</p>\n",
       "</div>"
      ],
      "text/plain": [
       "       Unnamed: 0                                                Url  \\\n",
       "61035       81674  https://www.immoweb.be/en/classified/apartment...   \n",
       "61042       81681  https://www.immoweb.be/en/classified/apartment...   \n",
       "81496      106153  https://www.immoweb.be/en/classified/apartment...   \n",
       "\n",
       "       bathroom_count  bedroom_count  construction_year district  \\\n",
       "61035               1              1               1987      NaN   \n",
       "61042               1              1               1987      NaN   \n",
       "81496               1              1               1987      NaN   \n",
       "\n",
       "      flooding_zone  garden  garden_area kitchen  ...  region  room_count  \\\n",
       "61035           NaN     0.0          NaN     NaN  ...     NaN         NaN   \n",
       "61042           NaN     0.0          NaN     NaN  ...     NaN         NaN   \n",
       "81496           NaN     0.0          NaN     NaN  ...     NaN         4.0   \n",
       "\n",
       "      state_of_building  subtype_of_property  surface_of_plot swimming_pool  \\\n",
       "61035               NaN          flat_studio              NaN           NaN   \n",
       "61042               NaN          flat_studio              NaN           NaN   \n",
       "81496              GOOD            apartment              NaN           NaN   \n",
       "\n",
       "      terrace  toilet_count type_of_property              type_of_sale  \n",
       "61035     1.0           NaN                2          residential_sale  \n",
       "61042     1.0           NaN                2          residential_sale  \n",
       "81496     NaN           1.0                2  residential_monthly_rent  \n",
       "\n",
       "[3 rows x 26 columns]"
      ]
     },
     "execution_count": 28,
     "metadata": {},
     "output_type": "execute_result"
    }
   ],
   "source": [
    "df = df.drop([59588, 84229, 89496, 89783])\n",
    "df[df['province'].isna()==1]"
   ]
  },
  {
   "cell_type": "code",
   "execution_count": 30,
   "metadata": {},
   "outputs": [
    {
     "data": {
      "text/html": [
       "<div>\n",
       "<style scoped>\n",
       "    .dataframe tbody tr th:only-of-type {\n",
       "        vertical-align: middle;\n",
       "    }\n",
       "\n",
       "    .dataframe tbody tr th {\n",
       "        vertical-align: top;\n",
       "    }\n",
       "\n",
       "    .dataframe thead th {\n",
       "        text-align: right;\n",
       "    }\n",
       "</style>\n",
       "<table border=\"1\" class=\"dataframe\">\n",
       "  <thead>\n",
       "    <tr style=\"text-align: right;\">\n",
       "      <th></th>\n",
       "      <th>Unnamed: 0</th>\n",
       "      <th>Url</th>\n",
       "      <th>bathroom_count</th>\n",
       "      <th>bedroom_count</th>\n",
       "      <th>construction_year</th>\n",
       "      <th>district</th>\n",
       "      <th>flooding_zone</th>\n",
       "      <th>garden</th>\n",
       "      <th>garden_area</th>\n",
       "      <th>kitchen</th>\n",
       "      <th>...</th>\n",
       "      <th>region</th>\n",
       "      <th>room_count</th>\n",
       "      <th>state_of_building</th>\n",
       "      <th>subtype_of_property</th>\n",
       "      <th>surface_of_plot</th>\n",
       "      <th>swimming_pool</th>\n",
       "      <th>terrace</th>\n",
       "      <th>toilet_count</th>\n",
       "      <th>type_of_property</th>\n",
       "      <th>type_of_sale</th>\n",
       "    </tr>\n",
       "  </thead>\n",
       "  <tbody>\n",
       "    <tr>\n",
       "      <th>81496</th>\n",
       "      <td>106153</td>\n",
       "      <td>https://www.immoweb.be/en/classified/apartment...</td>\n",
       "      <td>1</td>\n",
       "      <td>1</td>\n",
       "      <td>1987</td>\n",
       "      <td>NaN</td>\n",
       "      <td>NaN</td>\n",
       "      <td>0.0</td>\n",
       "      <td>NaN</td>\n",
       "      <td>NaN</td>\n",
       "      <td>...</td>\n",
       "      <td>NaN</td>\n",
       "      <td>4.0</td>\n",
       "      <td>GOOD</td>\n",
       "      <td>apartment</td>\n",
       "      <td>NaN</td>\n",
       "      <td>NaN</td>\n",
       "      <td>NaN</td>\n",
       "      <td>1.0</td>\n",
       "      <td>2</td>\n",
       "      <td>residential_monthly_rent</td>\n",
       "    </tr>\n",
       "  </tbody>\n",
       "</table>\n",
       "<p>1 rows × 26 columns</p>\n",
       "</div>"
      ],
      "text/plain": [
       "       Unnamed: 0                                                Url  \\\n",
       "81496      106153  https://www.immoweb.be/en/classified/apartment...   \n",
       "\n",
       "       bathroom_count  bedroom_count  construction_year district  \\\n",
       "81496               1              1               1987      NaN   \n",
       "\n",
       "      flooding_zone  garden  garden_area kitchen  ...  region  room_count  \\\n",
       "81496           NaN     0.0          NaN     NaN  ...     NaN         4.0   \n",
       "\n",
       "      state_of_building  subtype_of_property  surface_of_plot swimming_pool  \\\n",
       "81496              GOOD            apartment              NaN           NaN   \n",
       "\n",
       "      terrace  toilet_count type_of_property              type_of_sale  \n",
       "81496     NaN           1.0                2  residential_monthly_rent  \n",
       "\n",
       "[1 rows x 26 columns]"
      ]
     },
     "execution_count": 30,
     "metadata": {},
     "output_type": "execute_result"
    }
   ],
   "source": [
    "#Fill the info of 'province'\n",
    "df.at[61035, 'province'] = 'West Flanders'\n",
    "df.at[61042, 'province'] = 'West Flanders'\n",
    "df[df['province'].isna()==1]"
   ]
  },
  {
   "cell_type": "code",
   "execution_count": 29,
   "metadata": {},
   "outputs": [
    {
     "name": "stdout",
     "output_type": "stream",
     "text": [
      "province\n",
      "West Flanders      20861\n",
      "Antwerp            18081\n",
      "East Flanders      16074\n",
      "Brussels           14046\n",
      "Hainaut            11678\n",
      "Liège              10447\n",
      "Flemish Brabant     9757\n",
      "Namur               4827\n",
      "Limburg             4733\n",
      "Walloon Brabant     4542\n",
      "Luxembourg          3248\n",
      "Name: count, dtype: int64 province\n",
      "West Flanders      0.176349\n",
      "Antwerp            0.152848\n",
      "East Flanders      0.135882\n",
      "Brussels           0.118738\n",
      "Hainaut            0.098720\n",
      "Liège              0.088314\n",
      "Flemish Brabant    0.082481\n",
      "Namur              0.040805\n",
      "Limburg            0.040010\n",
      "Walloon Brabant    0.038396\n",
      "Luxembourg         0.027457\n",
      "Name: proportion, dtype: float64\n"
     ]
    }
   ],
   "source": [
    "#check distibution of each value in 'Province'\n",
    "province_distribution = df['province'].value_counts()\n",
    "province_percentage = df['province'].value_counts(normalize=True)\n",
    "print(province_distribution, province_percentage)"
   ]
  },
  {
   "cell_type": "code",
   "execution_count": 30,
   "metadata": {},
   "outputs": [
    {
     "data": {
      "text/html": [
       "<div>\n",
       "<style scoped>\n",
       "    .dataframe tbody tr th:only-of-type {\n",
       "        vertical-align: middle;\n",
       "    }\n",
       "\n",
       "    .dataframe tbody tr th {\n",
       "        vertical-align: top;\n",
       "    }\n",
       "\n",
       "    .dataframe thead th {\n",
       "        text-align: right;\n",
       "    }\n",
       "</style>\n",
       "<table border=\"1\" class=\"dataframe\">\n",
       "  <thead>\n",
       "    <tr style=\"text-align: right;\">\n",
       "      <th></th>\n",
       "      <th>Unnamed: 0</th>\n",
       "      <th>Url</th>\n",
       "      <th>bathroom_count</th>\n",
       "      <th>bedroom_count</th>\n",
       "      <th>construction_year</th>\n",
       "      <th>district</th>\n",
       "      <th>flooding_zone</th>\n",
       "      <th>garden</th>\n",
       "      <th>garden_area</th>\n",
       "      <th>kitchen</th>\n",
       "      <th>...</th>\n",
       "      <th>region</th>\n",
       "      <th>room_count</th>\n",
       "      <th>state_of_building</th>\n",
       "      <th>subtype_of_property</th>\n",
       "      <th>surface_of_plot</th>\n",
       "      <th>swimming_pool</th>\n",
       "      <th>terrace</th>\n",
       "      <th>toilet_count</th>\n",
       "      <th>type_of_property</th>\n",
       "      <th>type_of_sale</th>\n",
       "    </tr>\n",
       "  </thead>\n",
       "  <tbody>\n",
       "    <tr>\n",
       "      <th>81496</th>\n",
       "      <td>106153</td>\n",
       "      <td>https://www.immoweb.be/en/classified/apartment...</td>\n",
       "      <td>1</td>\n",
       "      <td>1</td>\n",
       "      <td>1987</td>\n",
       "      <td>NaN</td>\n",
       "      <td>NaN</td>\n",
       "      <td>0.0</td>\n",
       "      <td>NaN</td>\n",
       "      <td>NaN</td>\n",
       "      <td>...</td>\n",
       "      <td>NaN</td>\n",
       "      <td>4.0</td>\n",
       "      <td>GOOD</td>\n",
       "      <td>apartment</td>\n",
       "      <td>NaN</td>\n",
       "      <td>NaN</td>\n",
       "      <td>NaN</td>\n",
       "      <td>1.0</td>\n",
       "      <td>2</td>\n",
       "      <td>residential_monthly_rent</td>\n",
       "    </tr>\n",
       "  </tbody>\n",
       "</table>\n",
       "<p>1 rows × 26 columns</p>\n",
       "</div>"
      ],
      "text/plain": [
       "       Unnamed: 0                                                Url  \\\n",
       "81496      106153  https://www.immoweb.be/en/classified/apartment...   \n",
       "\n",
       "       bathroom_count  bedroom_count  construction_year district  \\\n",
       "81496               1              1               1987      NaN   \n",
       "\n",
       "      flooding_zone  garden  garden_area kitchen  ...  region  room_count  \\\n",
       "81496           NaN     0.0          NaN     NaN  ...     NaN         4.0   \n",
       "\n",
       "      state_of_building  subtype_of_property  surface_of_plot swimming_pool  \\\n",
       "81496              GOOD            apartment              NaN           NaN   \n",
       "\n",
       "      terrace  toilet_count type_of_property              type_of_sale  \n",
       "81496     NaN           1.0                2  residential_monthly_rent  \n",
       "\n",
       "[1 rows x 26 columns]"
      ]
     },
     "execution_count": 30,
     "metadata": {},
     "output_type": "execute_result"
    }
   ],
   "source": [
    "#Check 'region'\n",
    "\n",
    "df.at[61035, 'region'] = 'Flanders'\n",
    "df.at[61042, 'region'] = 'Flanders'\n",
    "df[df['region'].isna()==1]"
   ]
  },
  {
   "cell_type": "code",
   "execution_count": 31,
   "metadata": {},
   "outputs": [
    {
     "name": "stdout",
     "output_type": "stream",
     "text": [
      "region\n",
      "Flanders    69508\n",
      "Wallonie    34742\n",
      "Brussels    14046\n",
      "Name: count, dtype: int64 region\n",
      "Flanders    0.587577\n",
      "Wallonie    0.293687\n",
      "Brussels    0.118736\n",
      "Name: proportion, dtype: float64\n"
     ]
    }
   ],
   "source": [
    "#check distibution of each value in 'Region'\n",
    "region_distribution = df['region'].value_counts()\n",
    "region_percentage = df['region'].value_counts(normalize=True)\n",
    "print(region_distribution, region_percentage)"
   ]
  },
  {
   "cell_type": "code",
   "execution_count": 32,
   "metadata": {},
   "outputs": [
    {
     "name": "stdout",
     "output_type": "stream",
     "text": [
      "district\n",
      "Brussels             14046\n",
      "Antwerp              10230\n",
      "Liège                 6954\n",
      "Brugge                6474\n",
      "Gent                  5682\n",
      "Halle-Vilvoorde       5275\n",
      "Nivelles              4542\n",
      "Turnhout              4536\n",
      "Leuven                4482\n",
      "Oostend               3853\n",
      "Kortrijk              3607\n",
      "Aalst                 3505\n",
      "Mechelen              3315\n",
      "Namur                 3293\n",
      "Charleroi             3032\n",
      "Hasselt               2833\n",
      "Veurne                2437\n",
      "Mons                  2356\n",
      "Sint-Niklaas          2345\n",
      "Verviers              1962\n",
      "Roeselare             1898\n",
      "Dendermonde           1860\n",
      "Tournai               1794\n",
      "Oudenaarde            1747\n",
      "Soignies              1652\n",
      "Tielt                 1256\n",
      "Thuin                 1149\n",
      "Dinant                1090\n",
      "Maaseik                973\n",
      "Eeklo                  935\n",
      "Tongeren               927\n",
      "Mouscron               862\n",
      "Huy                    841\n",
      "Ath                    833\n",
      "Arlon                  707\n",
      "Marche-en-Famenne      705\n",
      "Diksmuide              697\n",
      "Waremme                690\n",
      "Neufchâteau            681\n",
      "Virton                 668\n",
      "Ieper                  639\n",
      "Bastogne               487\n",
      "Philippeville          444\n",
      "Name: count, dtype: int64 3\n"
     ]
    }
   ],
   "source": [
    "#check 'district'\n",
    "district_values = df['district'].value_counts()\n",
    "num_null_district = df['district'].isnull().sum()\n",
    "print(district_values, num_null_district)"
   ]
  },
  {
   "cell_type": "code",
   "execution_count": 33,
   "metadata": {},
   "outputs": [],
   "source": [
    "df.at[61035, 'district'] = 'Bruge'\n",
    "df.at[61042, 'district'] = 'Bruge'"
   ]
  },
  {
   "cell_type": "code",
   "execution_count": 34,
   "metadata": {},
   "outputs": [
    {
     "name": "stdout",
     "output_type": "stream",
     "text": [
      "85489 0.7226641419478094 room_count\n",
      "1.0     8162\n",
      "3.0     2431\n",
      "4.0     2145\n",
      "9.0     2000\n",
      "8.0     1914\n",
      "10.0    1870\n",
      "5.0     1645\n",
      "6.0     1601\n",
      "7.0     1580\n",
      "11.0    1514\n",
      "2.0     1444\n",
      "12.0    1276\n",
      "14.0    1249\n",
      "13.0    1061\n",
      "15.0     965\n",
      "16.0     542\n",
      "17.0     332\n",
      "18.0     273\n",
      "19.0     190\n",
      "20.0     145\n",
      "21.0     103\n",
      "22.0      87\n",
      "23.0      60\n",
      "24.0      47\n",
      "25.0      32\n",
      "28.0      22\n",
      "26.0      22\n",
      "29.0      16\n",
      "27.0      16\n",
      "30.0      15\n",
      "36.0       7\n",
      "32.0       6\n",
      "33.0       5\n",
      "35.0       5\n",
      "38.0       4\n",
      "31.0       3\n",
      "43.0       3\n",
      "34.0       3\n",
      "40.0       3\n",
      "37.0       2\n",
      "53.0       2\n",
      "44.0       1\n",
      "50.0       1\n",
      "45.0       1\n",
      "48.0       1\n",
      "39.0       1\n",
      "41.0       1\n",
      "Name: count, dtype: int64 room_count\n",
      "1.0     0.248781\n",
      "3.0     0.074098\n",
      "4.0     0.065380\n",
      "9.0     0.060961\n",
      "8.0     0.058339\n",
      "10.0    0.056998\n",
      "5.0     0.050140\n",
      "6.0     0.048799\n",
      "7.0     0.048159\n",
      "11.0    0.046147\n",
      "2.0     0.044014\n",
      "12.0    0.038893\n",
      "14.0    0.038070\n",
      "13.0    0.032340\n",
      "15.0    0.029414\n",
      "16.0    0.016520\n",
      "17.0    0.010119\n",
      "18.0    0.008321\n",
      "19.0    0.005791\n",
      "20.0    0.004420\n",
      "21.0    0.003139\n",
      "22.0    0.002652\n",
      "23.0    0.001829\n",
      "24.0    0.001433\n",
      "25.0    0.000975\n",
      "28.0    0.000671\n",
      "26.0    0.000671\n",
      "29.0    0.000488\n",
      "27.0    0.000488\n",
      "30.0    0.000457\n",
      "36.0    0.000213\n",
      "32.0    0.000183\n",
      "33.0    0.000152\n",
      "35.0    0.000152\n",
      "38.0    0.000122\n",
      "31.0    0.000091\n",
      "43.0    0.000091\n",
      "34.0    0.000091\n",
      "40.0    0.000091\n",
      "37.0    0.000061\n",
      "53.0    0.000061\n",
      "44.0    0.000030\n",
      "50.0    0.000030\n",
      "45.0    0.000030\n",
      "48.0    0.000030\n",
      "39.0    0.000030\n",
      "41.0    0.000030\n",
      "Name: proportion, dtype: float64\n"
     ]
    }
   ],
   "source": [
    "#Check the columns of 'RoomCount'\n",
    "num_null_roomcount = df['room_count'].isnull().sum()\n",
    "per_null_rooncount = num_null_roomcount / len (df)\n",
    "roomcount_distribution = df['room_count'].value_counts()\n",
    "roomcount_percentage = df['room_count'].value_counts(normalize=True)\n",
    "print(num_null_roomcount, per_null_rooncount, roomcount_distribution, roomcount_percentage)\n",
    "\n",
    "#df = df.drop(columns = ['RoomCount', 'ShowerCount'])\n"
   ]
  },
  {
   "cell_type": "code",
   "execution_count": 35,
   "metadata": {},
   "outputs": [],
   "source": [
    "#fill empty value of 'room_count'\n",
    "imputer = KNNImputer(n_neighbors=20)\n",
    "df[['room_count']] = imputer.fit_transform(df[['room_count']])\n",
    "\n",
    "df['room_count'] = df['room_count'].round().astype(int)\n",
    "\n",
    "df.to_csv(\"Hui.csv\", index = True)"
   ]
  },
  {
   "cell_type": "code",
   "execution_count": 113,
   "metadata": {},
   "outputs": [
    {
     "ename": "KeyError",
     "evalue": "'shower_count'",
     "output_type": "error",
     "traceback": [
      "\u001b[0;31m---------------------------------------------------------------------------\u001b[0m",
      "\u001b[0;31mKeyError\u001b[0m                                  Traceback (most recent call last)",
      "File \u001b[0;32m/Library/Frameworks/Python.framework/Versions/3.11/lib/python3.11/site-packages/pandas/core/indexes/base.py:3805\u001b[0m, in \u001b[0;36mIndex.get_loc\u001b[0;34m(self, key)\u001b[0m\n\u001b[1;32m   3804\u001b[0m \u001b[38;5;28;01mtry\u001b[39;00m:\n\u001b[0;32m-> 3805\u001b[0m     \u001b[38;5;28;01mreturn\u001b[39;00m \u001b[38;5;28;43mself\u001b[39;49m\u001b[38;5;241;43m.\u001b[39;49m\u001b[43m_engine\u001b[49m\u001b[38;5;241;43m.\u001b[39;49m\u001b[43mget_loc\u001b[49m\u001b[43m(\u001b[49m\u001b[43mcasted_key\u001b[49m\u001b[43m)\u001b[49m\n\u001b[1;32m   3806\u001b[0m \u001b[38;5;28;01mexcept\u001b[39;00m \u001b[38;5;167;01mKeyError\u001b[39;00m \u001b[38;5;28;01mas\u001b[39;00m err:\n",
      "File \u001b[0;32mindex.pyx:167\u001b[0m, in \u001b[0;36mpandas._libs.index.IndexEngine.get_loc\u001b[0;34m()\u001b[0m\n",
      "File \u001b[0;32mindex.pyx:196\u001b[0m, in \u001b[0;36mpandas._libs.index.IndexEngine.get_loc\u001b[0;34m()\u001b[0m\n",
      "File \u001b[0;32mpandas/_libs/hashtable_class_helper.pxi:7081\u001b[0m, in \u001b[0;36mpandas._libs.hashtable.PyObjectHashTable.get_item\u001b[0;34m()\u001b[0m\n",
      "File \u001b[0;32mpandas/_libs/hashtable_class_helper.pxi:7089\u001b[0m, in \u001b[0;36mpandas._libs.hashtable.PyObjectHashTable.get_item\u001b[0;34m()\u001b[0m\n",
      "\u001b[0;31mKeyError\u001b[0m: 'shower_count'",
      "\nThe above exception was the direct cause of the following exception:\n",
      "\u001b[0;31mKeyError\u001b[0m                                  Traceback (most recent call last)",
      "Cell \u001b[0;32mIn[113], line 2\u001b[0m\n\u001b[1;32m      1\u001b[0m \u001b[38;5;66;03m#check 'ShowerCount'\u001b[39;00m\n\u001b[0;32m----> 2\u001b[0m num_null_ShowerCount \u001b[38;5;241m=\u001b[39m \u001b[43mdf\u001b[49m\u001b[43m[\u001b[49m\u001b[38;5;124;43m'\u001b[39;49m\u001b[38;5;124;43mshower_count\u001b[39;49m\u001b[38;5;124;43m'\u001b[39;49m\u001b[43m]\u001b[49m\u001b[38;5;241m.\u001b[39misnull()\u001b[38;5;241m.\u001b[39msum()\n\u001b[1;32m      3\u001b[0m per_null_ShowerCount \u001b[38;5;241m=\u001b[39m num_null_ShowerCount \u001b[38;5;241m/\u001b[39m \u001b[38;5;28mlen\u001b[39m (df)\n\u001b[1;32m      4\u001b[0m ShowerCount_distribution \u001b[38;5;241m=\u001b[39m df[\u001b[38;5;124m'\u001b[39m\u001b[38;5;124mshower_count\u001b[39m\u001b[38;5;124m'\u001b[39m]\u001b[38;5;241m.\u001b[39mvalue_counts()\n",
      "File \u001b[0;32m/Library/Frameworks/Python.framework/Versions/3.11/lib/python3.11/site-packages/pandas/core/frame.py:4102\u001b[0m, in \u001b[0;36mDataFrame.__getitem__\u001b[0;34m(self, key)\u001b[0m\n\u001b[1;32m   4100\u001b[0m \u001b[38;5;28;01mif\u001b[39;00m \u001b[38;5;28mself\u001b[39m\u001b[38;5;241m.\u001b[39mcolumns\u001b[38;5;241m.\u001b[39mnlevels \u001b[38;5;241m>\u001b[39m \u001b[38;5;241m1\u001b[39m:\n\u001b[1;32m   4101\u001b[0m     \u001b[38;5;28;01mreturn\u001b[39;00m \u001b[38;5;28mself\u001b[39m\u001b[38;5;241m.\u001b[39m_getitem_multilevel(key)\n\u001b[0;32m-> 4102\u001b[0m indexer \u001b[38;5;241m=\u001b[39m \u001b[38;5;28;43mself\u001b[39;49m\u001b[38;5;241;43m.\u001b[39;49m\u001b[43mcolumns\u001b[49m\u001b[38;5;241;43m.\u001b[39;49m\u001b[43mget_loc\u001b[49m\u001b[43m(\u001b[49m\u001b[43mkey\u001b[49m\u001b[43m)\u001b[49m\n\u001b[1;32m   4103\u001b[0m \u001b[38;5;28;01mif\u001b[39;00m is_integer(indexer):\n\u001b[1;32m   4104\u001b[0m     indexer \u001b[38;5;241m=\u001b[39m [indexer]\n",
      "File \u001b[0;32m/Library/Frameworks/Python.framework/Versions/3.11/lib/python3.11/site-packages/pandas/core/indexes/base.py:3812\u001b[0m, in \u001b[0;36mIndex.get_loc\u001b[0;34m(self, key)\u001b[0m\n\u001b[1;32m   3807\u001b[0m     \u001b[38;5;28;01mif\u001b[39;00m \u001b[38;5;28misinstance\u001b[39m(casted_key, \u001b[38;5;28mslice\u001b[39m) \u001b[38;5;129;01mor\u001b[39;00m (\n\u001b[1;32m   3808\u001b[0m         \u001b[38;5;28misinstance\u001b[39m(casted_key, abc\u001b[38;5;241m.\u001b[39mIterable)\n\u001b[1;32m   3809\u001b[0m         \u001b[38;5;129;01mand\u001b[39;00m \u001b[38;5;28many\u001b[39m(\u001b[38;5;28misinstance\u001b[39m(x, \u001b[38;5;28mslice\u001b[39m) \u001b[38;5;28;01mfor\u001b[39;00m x \u001b[38;5;129;01min\u001b[39;00m casted_key)\n\u001b[1;32m   3810\u001b[0m     ):\n\u001b[1;32m   3811\u001b[0m         \u001b[38;5;28;01mraise\u001b[39;00m InvalidIndexError(key)\n\u001b[0;32m-> 3812\u001b[0m     \u001b[38;5;28;01mraise\u001b[39;00m \u001b[38;5;167;01mKeyError\u001b[39;00m(key) \u001b[38;5;28;01mfrom\u001b[39;00m \u001b[38;5;21;01merr\u001b[39;00m\n\u001b[1;32m   3813\u001b[0m \u001b[38;5;28;01mexcept\u001b[39;00m \u001b[38;5;167;01mTypeError\u001b[39;00m:\n\u001b[1;32m   3814\u001b[0m     \u001b[38;5;66;03m# If we have a listlike key, _check_indexing_error will raise\u001b[39;00m\n\u001b[1;32m   3815\u001b[0m     \u001b[38;5;66;03m#  InvalidIndexError. Otherwise we fall through and re-raise\u001b[39;00m\n\u001b[1;32m   3816\u001b[0m     \u001b[38;5;66;03m#  the TypeError.\u001b[39;00m\n\u001b[1;32m   3817\u001b[0m     \u001b[38;5;28mself\u001b[39m\u001b[38;5;241m.\u001b[39m_check_indexing_error(key)\n",
      "\u001b[0;31mKeyError\u001b[0m: 'shower_count'"
     ]
    }
   ],
   "source": [
    "#check 'ShowerCount'\n",
    "num_null_ShowerCount = df['shower_count'].isnull().sum()\n",
    "per_null_ShowerCount = num_null_ShowerCount / len (df)\n",
    "ShowerCount_distribution = df['shower_count'].value_counts()\n",
    "ShowerCount_percentage = df['shower_count'].value_counts(normalize=True)\n",
    "print(num_null_ShowerCount, per_null_ShowerCount, ShowerCount_distribution, ShowerCount_percentage)"
   ]
  },
  {
   "cell_type": "code",
   "execution_count": 38,
   "metadata": {},
   "outputs": [
    {
     "name": "stdout",
     "output_type": "stream",
     "text": [
      "33497 0.2833446117408222 PEB\n",
      "B      18089\n",
      "A      14925\n",
      "C      14826\n",
      "D      11770\n",
      "F       9616\n",
      "E       7802\n",
      "G       5081\n",
      "A+      1973\n",
      "A++      641\n",
      "Name: count, dtype: int64 PEB\n",
      "B      0.213508\n",
      "A      0.176162\n",
      "C      0.174994\n",
      "D      0.138923\n",
      "F      0.113499\n",
      "E      0.092088\n",
      "G      0.059972\n",
      "A+     0.023288\n",
      "A++    0.007566\n",
      "Name: proportion, dtype: float64\n"
     ]
    }
   ],
   "source": [
    "#check 'PEB'\n",
    "df[df['PEB'].isna()==1]\n",
    "num_null_PEB = df['PEB'].isnull().sum()\n",
    "per_null_PEB = num_null_PEB / len (df)\n",
    "PEB_distribution = df['PEB'].value_counts()\n",
    "PEB_percentage = df['PEB'].value_counts(normalize=True)\n",
    "print(num_null_PEB, per_null_PEB, PEB_distribution, PEB_percentage)"
   ]
  },
  {
   "cell_type": "code",
   "execution_count": 39,
   "metadata": {},
   "outputs": [
    {
     "name": "stdout",
     "output_type": "stream",
     "text": [
      "PEB\n",
      "B      18089\n",
      "A      14925\n",
      "C      14826\n",
      "D      11770\n",
      "F       9616\n",
      "E       7802\n",
      "G       5081\n",
      "A+      1973\n",
      "A++      641\n",
      "Name: count, dtype: int64\n"
     ]
    }
   ],
   "source": [
    "#Clean the tricky PEB data\n",
    "df = df.drop(df[df['PEB'].isin([\"B_A\", \"A_A+\", \"F_C\", \"F_D\", \"G_C\", \"F_E\", \"E_D\", \"E_C\", \"G_F\"])].index)\n",
    "print(PEB_distribution)"
   ]
  },
  {
   "cell_type": "code",
   "execution_count": 40,
   "metadata": {},
   "outputs": [],
   "source": [
    "#Grade the PEB\n",
    "PEB_grade = {\n",
    "   'A++': 9,\n",
    " 'A+': 8,\n",
    " 'A': 7,\n",
    " 'B': 6,\n",
    " 'C': 5,\n",
    " 'D': 4,\n",
    " 'E': 3,\n",
    " 'F': 2,\n",
    " 'G': 1\n",
    "}\n",
    "df['PEB_grade'] =df['PEB'].map(PEB_grade)\n",
    "df.to_csv(\"Hui.csv\", index = True)"
   ]
  },
  {
   "cell_type": "code",
   "execution_count": 41,
   "metadata": {},
   "outputs": [],
   "source": [
    "imputer = KNNImputer(n_neighbors=20)\n",
    "df[['PEB_grade']] = imputer.fit_transform(df[['PEB_grade']])\n",
    "\n",
    "df['PEB_grade'] = df['PEB_grade'].round().astype(int)\n",
    "\n",
    "df.to_csv(\"Hui.csv\", index = True)"
   ]
  },
  {
   "cell_type": "code",
   "execution_count": 42,
   "metadata": {},
   "outputs": [
    {
     "name": "stdout",
     "output_type": "stream",
     "text": [
      "36956 0.3126036203688039 state_of_building\n",
      "GOOD              43307\n",
      "AS_NEW            18862\n",
      "TO_RENOVATE        7488\n",
      "TO_BE_DONE_UP      5693\n",
      "JUST_RENOVATED     5461\n",
      "TO_RESTORE          453\n",
      "Name: count, dtype: int64 state_of_building\n",
      "GOOD              0.532917\n",
      "AS_NEW            0.232108\n",
      "TO_RENOVATE       0.092144\n",
      "TO_BE_DONE_UP     0.070056\n",
      "JUST_RENOVATED    0.067201\n",
      "TO_RESTORE        0.005574\n",
      "Name: proportion, dtype: float64\n"
     ]
    }
   ],
   "source": [
    "#check 'state_of_building'\n",
    "df[df['state_of_building'].isna()==1]\n",
    "num_null_StateOfBuilding = df['state_of_building'].isnull().sum()\n",
    "per_null_StateOfBuilding = num_null_StateOfBuilding / len (df)\n",
    "StateOfBuilding_distribution = df['state_of_building'].value_counts()\n",
    "StateOfBuilding_percentage = df['state_of_building'].value_counts(normalize=True)\n",
    "print(num_null_StateOfBuilding, per_null_StateOfBuilding, StateOfBuilding_distribution, StateOfBuilding_percentage)"
   ]
  },
  {
   "cell_type": "markdown",
   "metadata": {},
   "source": [
    "###Grade the building state\n",
    "GOOD           -->   4\n",
    "AS_NEW         -->   6\n",
    "TO_RENOVATE    -->   1\n",
    "TO_BE_DONE_UP  -->   3\n",
    "JUST_RENOVATED -->   5\n",
    "TO_RESTORE     -->   2"
   ]
  },
  {
   "cell_type": "code",
   "execution_count": 43,
   "metadata": {},
   "outputs": [],
   "source": [
    "Building_state_grade = {\n",
    "    'GOOD': 4, \n",
    "'AS_NEW': 6,\n",
    "'TO_RENOVATE': 2, \n",
    "'TO_BE_DONE_UP': 3,\n",
    "'JUST_RENOVATED': 5,\n",
    "'TO_RESTORE': 1\n",
    "}\n",
    "df['Building_state_grade'] =df['state_of_building'].map(Building_state_grade)\n",
    "df.to_csv(\"Hui.csv\", index = True)"
   ]
  },
  {
   "cell_type": "code",
   "execution_count": 44,
   "metadata": {},
   "outputs": [],
   "source": [
    "imputer = KNNImputer(n_neighbors=20)\n",
    "df[['Building_state_grade']] = imputer.fit_transform(df[['Building_state_grade']])\n",
    "\n",
    "df['Building_state_grade'] = df['Building_state_grade'].round().astype(int)\n",
    "df.to_csv('Hui.csv', index=True)"
   ]
  },
  {
   "cell_type": "code",
   "execution_count": 186,
   "metadata": {},
   "outputs": [],
   "source": [
    "#check the state\n",
    "#TO_BE_DONE_UP_df = df[df['StateOfBuilding'] == 'TO_BE_DONE_UP']\n",
    "##print(TO_BE_DONE_UP_df)\n",
    "#TO_BE_DONE_UP_df['Url'].tolist("
   ]
  },
  {
   "cell_type": "code",
   "execution_count": 45,
   "metadata": {},
   "outputs": [
    {
     "name": "stdout",
     "output_type": "stream",
     "text": [
      "subtype_of_property\n",
      "apartment               47013\n",
      "house                   45098\n",
      "villa                    5145\n",
      "ground_floor             3507\n",
      "duplex                   2836\n",
      "flat_studio              2452\n",
      "apartment_block          2399\n",
      "penthouse                2379\n",
      "mixed_use_building       1882\n",
      "service_flat              764\n",
      "kot                       753\n",
      "mansion                   693\n",
      "town_house                635\n",
      "bungalow                  476\n",
      "loft                      425\n",
      "exceptional_property      405\n",
      "country_cottage           394\n",
      "farmhouse                 335\n",
      "triplex                   254\n",
      "chalet                    164\n",
      "other_property             87\n",
      "manor_house                77\n",
      "castle                     40\n",
      "pavilion                    4\n",
      "show_house                  3\n",
      "Name: count, dtype: int64 subtype_of_property\n",
      "apartment               0.397674\n",
      "house                   0.381475\n",
      "villa                   0.043521\n",
      "ground_floor            0.029665\n",
      "duplex                  0.023989\n",
      "flat_studio             0.020741\n",
      "apartment_block         0.020293\n",
      "penthouse               0.020123\n",
      "mixed_use_building      0.015919\n",
      "service_flat            0.006463\n",
      "kot                     0.006369\n",
      "mansion                 0.005862\n",
      "town_house              0.005371\n",
      "bungalow                0.004026\n",
      "loft                    0.003595\n",
      "exceptional_property    0.003426\n",
      "country_cottage         0.003333\n",
      "farmhouse               0.002834\n",
      "triplex                 0.002149\n",
      "chalet                  0.001387\n",
      "other_property          0.000736\n",
      "manor_house             0.000651\n",
      "castle                  0.000338\n",
      "pavilion                0.000034\n",
      "show_house              0.000025\n",
      "Name: proportion, dtype: float64\n"
     ]
    }
   ],
   "source": [
    "#check 'subtype_of_property'\n",
    "df[df['subtype_of_property'].isna()==1]\n",
    "SubtypeOfProperty_distribution = df['subtype_of_property'].value_counts()\n",
    "SubtypeOfProperty_percentage = df['subtype_of_property'].value_counts(normalize=True)\n",
    "print(SubtypeOfProperty_distribution, SubtypeOfProperty_percentage)"
   ]
  },
  {
   "cell_type": "code",
   "execution_count": 46,
   "metadata": {},
   "outputs": [
    {
     "name": "stdout",
     "output_type": "stream",
     "text": [
      "60383 0.5107680595499915 surface_of_plot\n",
      "0.0        7777\n",
      "200.0       295\n",
      "150.0       282\n",
      "300.0       277\n",
      "120.0       270\n",
      "           ... \n",
      "7210.0        1\n",
      "26000.0       1\n",
      "3981.0        1\n",
      "2814.0        1\n",
      "10703.0       1\n",
      "Name: count, Length: 4493, dtype: int64\n"
     ]
    }
   ],
   "source": [
    "#check 'surface_of_plot'\n",
    "df[df['surface_of_plot'].isna()==1]\n",
    "num_null_SurfaceOfPlot = df['surface_of_plot'].isnull().sum()\n",
    "per_null_SurfaceOfPlot = num_null_SurfaceOfPlot / len (df)\n",
    "SurfaceOfPlot_distribution = df['surface_of_plot'].value_counts()\n",
    "SurfaceOfPlot_percentage = df['surface_of_plot'].value_counts(normalize=True)\n",
    "print(num_null_SurfaceOfPlot, per_null_SurfaceOfPlot, SurfaceOfPlot_distribution)"
   ]
  },
  {
   "cell_type": "code",
   "execution_count": 47,
   "metadata": {},
   "outputs": [],
   "source": [
    "condition = df['surface_of_plot'].isnull() & (df['type_of_property'] == 2)\n",
    "df.loc[condition, 'surface_of_plot'] = df['living_area']\n",
    "df.to_csv('Hui.csv', index=True)"
   ]
  },
  {
   "cell_type": "code",
   "execution_count": 48,
   "metadata": {},
   "outputs": [],
   "source": [
    "imputer = KNNImputer(n_neighbors=20)\n",
    "df[['surface_of_plot']] = imputer.fit_transform(df[['surface_of_plot']])\n",
    "\n",
    "df['surface_of_plot'] = df['surface_of_plot'].round().astype(int)\n",
    "df.to_csv('Hui.csv', index=True)"
   ]
  },
  {
   "cell_type": "code",
   "execution_count": 49,
   "metadata": {},
   "outputs": [],
   "source": [
    "df.loc[df['surface_of_plot'] < df['living_area'], 'surface_of_plot'] = df['living_area']\n",
    "df.to_csv('Hui.csv', index=True)\n"
   ]
  },
  {
   "cell_type": "code",
   "execution_count": 50,
   "metadata": {},
   "outputs": [
    {
     "name": "stdout",
     "output_type": "stream",
     "text": [
      "78091 0.6605565894095754 swimming_pool\n",
      "0.0    38131\n",
      "1.0     1998\n",
      "Name: count, dtype: int64\n"
     ]
    }
   ],
   "source": [
    "#check the 'swimming_pool'\n",
    "df[df['swimming_pool'].isna()==1]\n",
    "num_null_SwimmingPool = df['swimming_pool'].isnull().sum()\n",
    "per_null_SwimmingPool = num_null_SwimmingPool / len (df)\n",
    "SwimmingPool_distribution = df['swimming_pool'].value_counts()\n",
    "SwimmingPool_percentage = df['swimming_pool'].value_counts(normalize=True)\n",
    "print(num_null_SwimmingPool, per_null_SwimmingPool, SwimmingPool_distribution)\n"
   ]
  },
  {
   "cell_type": "code",
   "execution_count": 51,
   "metadata": {},
   "outputs": [
    {
     "data": {
      "text/plain": [
       "type_of_sale\n",
       "residential_sale    104475\n",
       "Name: count, dtype: int64"
      ]
     },
     "execution_count": 51,
     "metadata": {},
     "output_type": "execute_result"
    }
   ],
   "source": [
    "df = df[df['type_of_sale'] == 'residential_sale']\n",
    "df['type_of_sale'].value_counts()"
   ]
  },
  {
   "cell_type": "code",
   "execution_count": 52,
   "metadata": {},
   "outputs": [
    {
     "name": "stderr",
     "output_type": "stream",
     "text": [
      "/var/folders/89/6dhf64yn68jcjcpqqbkth7jr0000gn/T/ipykernel_30265/2916291254.py:2: FutureWarning: A value is trying to be set on a copy of a DataFrame or Series through chained assignment using an inplace method.\n",
      "The behavior will change in pandas 3.0. This inplace method will never work because the intermediate object on which we are setting values always behaves as a copy.\n",
      "\n",
      "For example, when doing 'df[col].method(value, inplace=True)', try using 'df.method({col: value}, inplace=True)' or df[col] = df[col].method(value) instead, to perform the operation inplace on the original object.\n",
      "\n",
      "\n",
      "  df[\"swimming_pool\"].fillna(0, inplace = True)\n"
     ]
    }
   ],
   "source": [
    "#Fill the empty values in 'swimming_pool'\n",
    "df[\"swimming_pool\"].fillna(0, inplace = True)\n",
    "df.to_csv('Hui.csv', index = True)\n"
   ]
  },
  {
   "cell_type": "code",
   "execution_count": 53,
   "metadata": {},
   "outputs": [],
   "source": [
    "df[column_to_drop] = dropped_column\n",
    "df.to_csv('Hui.csv', index = True)"
   ]
  },
  {
   "cell_type": "code",
   "execution_count": 56,
   "metadata": {},
   "outputs": [],
   "source": [
    "#df = df.drop(df[df['price'] < 40000].index)"
   ]
  },
  {
   "cell_type": "code",
   "execution_count": 56,
   "metadata": {},
   "outputs": [
    {
     "data": {
      "text/plain": [
       "Unnamed: 0                  0\n",
       "Url                         0\n",
       "bathroom_count              0\n",
       "bedroom_count               0\n",
       "construction_year           0\n",
       "district                    0\n",
       "flooding_zone           51218\n",
       "garden                      0\n",
       "garden_area             84102\n",
       "kitchen                 46865\n",
       "living_area                 0\n",
       "number_of_facades           0\n",
       "PEB                     30410\n",
       "postal_code                 0\n",
       "property_id                 0\n",
       "province                    2\n",
       "region                      0\n",
       "room_count                  0\n",
       "state_of_building       33300\n",
       "subtype_of_property         0\n",
       "surface_of_plot             0\n",
       "swimming_pool               0\n",
       "terrace                 44116\n",
       "toilet_count            20065\n",
       "type_of_property            0\n",
       "type_of_sale                0\n",
       "PEB_grade                   0\n",
       "Building_state_grade        0\n",
       "price                       0\n",
       "dtype: int64"
      ]
     },
     "execution_count": 56,
     "metadata": {},
     "output_type": "execute_result"
    }
   ],
   "source": [
    "df.isnull().sum()"
   ]
  },
  {
   "cell_type": "code",
   "execution_count": 55,
   "metadata": {},
   "outputs": [
    {
     "ename": "NameError",
     "evalue": "name 'df_hui' is not defined",
     "output_type": "error",
     "traceback": [
      "\u001b[0;31m---------------------------------------------------------------------------\u001b[0m",
      "\u001b[0;31mNameError\u001b[0m                                 Traceback (most recent call last)",
      "Cell \u001b[0;32mIn[55], line 2\u001b[0m\n\u001b[1;32m      1\u001b[0m \u001b[38;5;66;03m#devide as two files according to 'type of property'\u001b[39;00m\n\u001b[0;32m----> 2\u001b[0m df_appartment \u001b[38;5;241m=\u001b[39m \u001b[43mdf_hui\u001b[49m[df_hui[\u001b[38;5;124m'\u001b[39m\u001b[38;5;124mtype_of_property\u001b[39m\u001b[38;5;124m'\u001b[39m] \u001b[38;5;241m==\u001b[39m \u001b[38;5;241m2\u001b[39m]\n\u001b[1;32m      3\u001b[0m df_house \u001b[38;5;241m=\u001b[39m df_hui[df_hui[\u001b[38;5;124m'\u001b[39m\u001b[38;5;124mtype_of_property\u001b[39m\u001b[38;5;124m'\u001b[39m] \u001b[38;5;241m==\u001b[39m \u001b[38;5;241m1\u001b[39m]\n\u001b[1;32m      5\u001b[0m \u001b[38;5;66;03m# Save the filtered DataFrames to new CSV files\u001b[39;00m\n",
      "\u001b[0;31mNameError\u001b[0m: name 'df_hui' is not defined"
     ]
    }
   ],
   "source": [
    "#devide as two files according to 'type of property'\n",
    "df_appartment = df_hui[df_hui['type_of_property'] == 2]\n",
    "df_house = df_hui[df_hui['type_of_property'] == 1]\n",
    "\n",
    "# Save the filtered DataFrames to new CSV files\n",
    "df_appartment.to_csv('data_appartment.csv', index=True)\n",
    "df_house.to_csv('data_house.csv', index=True)"
   ]
  },
  {
   "cell_type": "code",
   "execution_count": null,
   "metadata": {},
   "outputs": [],
   "source": [
    "import matplotlib.pyplot as plt\n",
    "import seaborn as sns\n",
    "import plotly.express as px"
   ]
  },
  {
   "cell_type": "code",
   "execution_count": null,
   "metadata": {},
   "outputs": [],
   "source": [
    "df = df.select_dtypes(include=['float64', 'int'])\n",
    "corr_matrix = df.corr()\n",
    "corr_matrix_np = corr_matrix.values\n",
    "np.fill_diagonal(corr_matrix_np, 1)\n",
    "corr_matrix = pd.DataFrame(corr_matrix_np, index=corr_matrix.index, columns=corr_matrix.columns)\n",
    "mask = np.triu(np.ones_like(corr_matrix, dtype=bool))\n",
    "plt.figure(figsize=(12, 6)) \n",
    "sns.heatmap(corr_matrix, mask=mask, annot=True, cmap=\"inferno\", vmax=1, vmin=-1, fmt='.2f', annot_kws={\"size\": 12})\n",
    "plt.title(\"Correlations\", fontsize=20)\n",
    "plt.xticks(fontsize=12, rotation=75)\n",
    "plt.yticks(fontsize=12)\n",
    "\n",
    "plt.show()"
   ]
  }
 ],
 "metadata": {
  "kernelspec": {
   "display_name": "Python 3",
   "language": "python",
   "name": "python3"
  },
  "language_info": {
   "codemirror_mode": {
    "name": "ipython",
    "version": 3
   },
   "file_extension": ".py",
   "mimetype": "text/x-python",
   "name": "python",
   "nbconvert_exporter": "python",
   "pygments_lexer": "ipython3",
   "version": "3.11.7"
  }
 },
 "nbformat": 4,
 "nbformat_minor": 2
}
