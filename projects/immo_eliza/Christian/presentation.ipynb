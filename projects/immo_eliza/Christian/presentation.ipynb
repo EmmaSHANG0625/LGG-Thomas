{
 "cells": [
  {
   "cell_type": "markdown",
   "metadata": {},
   "source": [
    "\n",
    "# Data analysis and visualization"
   ]
  },
  {
   "cell_type": "markdown",
   "metadata": {},
   "source": [
    "\n",
    "### Introduction"
   ]
  },
  {
   "cell_type": "markdown",
   "metadata": {},
   "source": [
    "This notebook presents some visualisations and conclusions drawn from our exploratory data analysis in the context of the immoweb project."
   ]
  },
  {
   "cell_type": "markdown",
   "metadata": {},
   "source": [
    "\n",
    "### 1. Ratio house-apartment by region"
   ]
  },
  {
   "cell_type": "markdown",
   "metadata": {},
   "source": [
    "\n",
    "From the outset, it seemed important to us to determine the ratio between the number of houses and the number of apartments."
   ]
  },
  {
   "cell_type": "markdown",
   "metadata": {},
   "source": [
    "\n",
    "![title](ratio.png)"
   ]
  },
  {
   "cell_type": "markdown",
   "metadata": {},
   "source": [
    "\n",
    "Throughout Belgium, there is no major imbalance: 53% of properties are houses and 47% are apartments.\n",
    "\n",
    "The ratio in Flanders is almost the same as that in Belgium: 52% houses to 48% apartments. \n",
    "\n",
    "In Wallonia, there is a significant gap between the number of houses and the number of apartments: 63% houses and 37% apartments; that is almost a ratio of 2 to 1.\n",
    "\n",
    "In Brussels, the trend is clearly reversed. There are three times more apartments than houses. "
   ]
  },
  {
   "cell_type": "markdown",
   "metadata": {},
   "source": [
    "\n",
    "### 2. Summary statistics of the price by region"
   ]
  },
  {
   "cell_type": "markdown",
   "metadata": {},
   "source": [
    "\n",
    "Let's visualize some the mean and the median of the price in Flanders and Wallonia."
   ]
  },
  {
   "cell_type": "markdown",
   "metadata": {},
   "source": [
    "![title](FlandWall.png)"
   ]
  },
  {
   "cell_type": "markdown",
   "metadata": {},
   "source": [
    "Flanders has a largest mean price than Wallonia."
   ]
  },
  {
   "cell_type": "markdown",
   "metadata": {},
   "source": [
    "\n",
    "### 3. Price distribution by region and by type of property"
   ]
  },
  {
   "cell_type": "markdown",
   "metadata": {},
   "source": [
    "\n",
    "We use boxplots to compare the price distribution by region and by type of property."
   ]
  },
  {
   "cell_type": "markdown",
   "metadata": {},
   "source": [
    "\n",
    "![title](price_dist_01.png)"
   ]
  },
  {
   "cell_type": "markdown",
   "metadata": {},
   "source": [
    "\n",
    "In Wallonia, for the majority of properties in our database regardless of the type (house or apartment), the price is between 180,000 and 390,000 with a median price around 280,000.\n",
    "\n",
    "The difference between the price of houses and that of apartments is more marked in Flanders, but especially in Brussels.\n",
    "\n",
    "Obviously, from a statistical point of view, it is more expensive to own a property in Brussels than anywhere else in Belgium."
   ]
  },
  {
   "cell_type": "markdown",
   "metadata": {},
   "source": [
    "\n",
    "### 4. Price distribution by state of building"
   ]
  },
  {
   "cell_type": "markdown",
   "metadata": {},
   "source": [
    "\n",
    "Let's also use boxplots to compare the price distribution by state of building."
   ]
  },
  {
   "cell_type": "markdown",
   "metadata": {},
   "source": [
    "\n",
    "![title](price_dist_02.png)"
   ]
  },
  {
   "cell_type": "markdown",
   "metadata": {},
   "source": [
    "This visualization shows a correlation between the condition of the building and the price of the property."
   ]
  },
  {
   "cell_type": "markdown",
   "metadata": {},
   "source": [
    "\n",
    "### 5. An interactive visualisation of the distribution price by state of building and by district"
   ]
  }
 ],
 "metadata": {
  "kernelspec": {
   "display_name": "Python 3",
   "language": "python",
   "name": "python3"
  },
  "language_info": {
   "codemirror_mode": {
    "name": "ipython",
    "version": 3
   },
   "file_extension": ".py",
   "mimetype": "text/x-python",
   "name": "python",
   "nbconvert_exporter": "python",
   "pygments_lexer": "ipython3",
   "version": "3.12.4"
  }
 },
 "nbformat": 4,
 "nbformat_minor": 2
}
