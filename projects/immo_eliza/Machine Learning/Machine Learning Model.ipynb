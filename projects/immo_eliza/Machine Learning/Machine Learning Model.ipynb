{
 "cells": [
  {
   "cell_type": "code",
   "execution_count": 623,
   "metadata": {},
   "outputs": [],
   "source": [
    "import pandas as pd"
   ]
  },
  {
   "cell_type": "code",
   "execution_count": 624,
   "metadata": {},
   "outputs": [
    {
     "name": "stderr",
     "output_type": "stream",
     "text": [
      "/var/folders/89/6dhf64yn68jcjcpqqbkth7jr0000gn/T/ipykernel_21537/1906731887.py:1: DtypeWarning: Columns (10) have mixed types. Specify dtype option on import or set low_memory=False.\n",
      "  df = pd.read_csv('./Data for Machine Learning.csv')\n"
     ]
    }
   ],
   "source": [
    "df = pd.read_csv('./Data for Machine Learning.csv')"
   ]
  },
  {
   "cell_type": "code",
   "execution_count": 631,
   "metadata": {},
   "outputs": [
    {
     "name": "stdout",
     "output_type": "stream",
     "text": [
      "<class 'pandas.core.frame.DataFrame'>\n",
      "Index: 88724 entries, 0 to 88723\n",
      "Data columns (total 76 columns):\n",
      " #   Column                            Non-Null Count  Dtype  \n",
      "---  ------                            --------------  -----  \n",
      " 0   Unnamed: 0                        88724 non-null  int64  \n",
      " 1   bathroom_count                    88724 non-null  float64\n",
      " 2   bedroom_count                     88724 non-null  float64\n",
      " 3   construction_year                 88724 non-null  float64\n",
      " 4   garden                            88724 non-null  float64\n",
      " 5   living_area                       88724 non-null  float64\n",
      " 6   number_of_facades                 88724 non-null  float64\n",
      " 7   room_count                        88724 non-null  float64\n",
      " 8   surface_of_plot                   88724 non-null  float64\n",
      " 9   swimming_pool                     88724 non-null  float64\n",
      " 10  type_of_property                  88724 non-null  object \n",
      " 11  price                             88724 non-null  float64\n",
      " 12  PEB_A                             88724 non-null  float64\n",
      " 13  PEB_A+                            88724 non-null  float64\n",
      " 14  PEB_A++                           88724 non-null  float64\n",
      " 15  PEB_B                             88724 non-null  float64\n",
      " 16  PEB_C                             88724 non-null  float64\n",
      " 17  PEB_D                             88724 non-null  float64\n",
      " 18  PEB_E                             88724 non-null  float64\n",
      " 19  PEB_F                             88724 non-null  float64\n",
      " 20  PEB_G                             88724 non-null  float64\n",
      " 21  state_of_building_AS_NEW          88724 non-null  float64\n",
      " 22  state_of_building_GOOD            88724 non-null  float64\n",
      " 23  state_of_building_JUST_RENOVATED  88724 non-null  float64\n",
      " 24  state_of_building_TO_BE_DONE_UP   88724 non-null  float64\n",
      " 25  state_of_building_TO_RENOVATE     88724 non-null  float64\n",
      " 26  state_of_building_TO_RESTORE      88724 non-null  float64\n",
      " 27  state_of_building_nan             88724 non-null  float64\n",
      " 28  type_of_property_appartment       88724 non-null  float64\n",
      " 29  type_of_property_house            88724 non-null  float64\n",
      " 30  type_of_property_nan              88724 non-null  float64\n",
      " 31  district_Aalst                    88724 non-null  float64\n",
      " 32  district_Antwerp                  88724 non-null  float64\n",
      " 33  district_Arlon                    88724 non-null  float64\n",
      " 34  district_Ath                      88724 non-null  float64\n",
      " 35  district_Bastogne                 88724 non-null  float64\n",
      " 36  district_Bruge                    88724 non-null  float64\n",
      " 37  district_Brugge                   88724 non-null  float64\n",
      " 38  district_Brussels                 88724 non-null  float64\n",
      " 39  district_Charleroi                88724 non-null  float64\n",
      " 40  district_Dendermonde              88724 non-null  float64\n",
      " 41  district_Diksmuide                88724 non-null  float64\n",
      " 42  district_Dinant                   88724 non-null  float64\n",
      " 43  district_Eeklo                    88724 non-null  float64\n",
      " 44  district_Gent                     88724 non-null  float64\n",
      " 45  district_Halle-Vilvoorde          88724 non-null  float64\n",
      " 46  district_Hasselt                  88724 non-null  float64\n",
      " 47  district_Huy                      88724 non-null  float64\n",
      " 48  district_Ieper                    88724 non-null  float64\n",
      " 49  district_Kortrijk                 88724 non-null  float64\n",
      " 50  district_Leuven                   88724 non-null  float64\n",
      " 51  district_Liège                    88724 non-null  float64\n",
      " 52  district_Maaseik                  88724 non-null  float64\n",
      " 53  district_Marche-en-Famenne        88724 non-null  float64\n",
      " 54  district_Mechelen                 88724 non-null  float64\n",
      " 55  district_Mons                     88724 non-null  float64\n",
      " 56  district_Mouscron                 88724 non-null  float64\n",
      " 57  district_Namur                    88724 non-null  float64\n",
      " 58  district_Neufchâteau              88724 non-null  float64\n",
      " 59  district_Nivelles                 88724 non-null  float64\n",
      " 60  district_Oostend                  88724 non-null  float64\n",
      " 61  district_Oudenaarde               88724 non-null  float64\n",
      " 62  district_Philippeville            88724 non-null  float64\n",
      " 63  district_Roeselare                88724 non-null  float64\n",
      " 64  district_Sint-Niklaas             88724 non-null  float64\n",
      " 65  district_Soignies                 88724 non-null  float64\n",
      " 66  district_Thuin                    88724 non-null  float64\n",
      " 67  district_Tielt                    88724 non-null  float64\n",
      " 68  district_Tongeren                 88724 non-null  float64\n",
      " 69  district_Tournai                  88724 non-null  float64\n",
      " 70  district_Turnhout                 88724 non-null  float64\n",
      " 71  district_Verviers                 88724 non-null  float64\n",
      " 72  district_Veurne                   88724 non-null  float64\n",
      " 73  district_Virton                   88724 non-null  float64\n",
      " 74  district_Waremme                  88724 non-null  float64\n",
      " 75  district_nan                      88724 non-null  float64\n",
      "dtypes: float64(74), int64(1), object(1)\n",
      "memory usage: 52.1+ MB\n"
     ]
    }
   ],
   "source": [
    "df.info()"
   ]
  },
  {
   "cell_type": "code",
   "execution_count": 630,
   "metadata": {},
   "outputs": [],
   "source": [
    "df = df.dropna()"
   ]
  },
  {
   "cell_type": "code",
   "execution_count": 632,
   "metadata": {},
   "outputs": [],
   "source": [
    "del df['district_nan']\n",
    "del df['type_of_property_nan']\n",
    "\n",
    "del df['state_of_building_nan']"
   ]
  },
  {
   "cell_type": "code",
   "execution_count": 640,
   "metadata": {},
   "outputs": [],
   "source": [
    "del df['type_of_property']"
   ]
  },
  {
   "cell_type": "code",
   "execution_count": 633,
   "metadata": {},
   "outputs": [],
   "source": [
    "del df['Unnamed: 0']"
   ]
  },
  {
   "cell_type": "code",
   "execution_count": 591,
   "metadata": {},
   "outputs": [],
   "source": [
    "#del df['construction_year']"
   ]
  },
  {
   "cell_type": "code",
   "execution_count": 592,
   "metadata": {},
   "outputs": [],
   "source": [
    "#del df['surface_of_plot']"
   ]
  },
  {
   "cell_type": "code",
   "execution_count": 641,
   "metadata": {},
   "outputs": [
    {
     "data": {
      "text/plain": [
       "(88724, 71)"
      ]
     },
     "execution_count": 641,
     "metadata": {},
     "output_type": "execute_result"
    }
   ],
   "source": [
    "df.shape"
   ]
  },
  {
   "cell_type": "code",
   "execution_count": 642,
   "metadata": {},
   "outputs": [
    {
     "name": "stdout",
     "output_type": "stream",
     "text": [
      "<class 'numpy.ndarray'>\n",
      "<class 'numpy.ndarray'>\n",
      "X shape:  (88724, 70)\n",
      "y shape:  (88724, 1)\n"
     ]
    }
   ],
   "source": [
    "import numpy as np\n",
    "\n",
    "X = df.drop(columns=['price']).to_numpy()\n",
    "y = df['price'].to_numpy().reshape(-1, 1)\n",
    "\n",
    "print(type(X))\n",
    "print(type(y))\n",
    "\n",
    "print(\"X shape: \", X.shape)\n",
    "print(\"y shape: \", y.shape)"
   ]
  },
  {
   "cell_type": "markdown",
   "metadata": {},
   "source": [
    "#split the datasest"
   ]
  },
  {
   "cell_type": "code",
   "execution_count": 643,
   "metadata": {},
   "outputs": [],
   "source": [
    "from sklearn.model_selection import train_test_split\n"
   ]
  },
  {
   "cell_type": "code",
   "execution_count": 596,
   "metadata": {},
   "outputs": [
    {
     "name": "stdout",
     "output_type": "stream",
     "text": [
      "Shape of X_train:  (83580, 70)\n",
      "Shape of X_test:  (20895, 70)\n",
      "Shape of y_train:  (83580, 1)\n",
      "Shape of y_test:  (20895, 1)\n"
     ]
    }
   ],
   "source": [
    "X_train, X_test, y_train, y_test = train_test_split(X, y, test_size=0.2, random_state=0 )\n",
    "print(\"Shape of X_train: \", X_train.shape)\n",
    "print(\"Shape of X_test: \", X_test.shape)\n",
    "print(\"Shape of y_train: \", y_train.shape)\n",
    "print(\"Shape of y_test: \", y_test.shape)"
   ]
  },
  {
   "cell_type": "markdown",
   "metadata": {},
   "source": [
    "#Load and fit the model - Initial Model Training and Evaluation\n",
    "##MultiLinearRegression"
   ]
  },
  {
   "cell_type": "code",
   "execution_count": 597,
   "metadata": {},
   "outputs": [],
   "source": [
    "from sklearn.linear_model import LinearRegression\n",
    "regressor = LinearRegression()"
   ]
  },
  {
   "cell_type": "code",
   "execution_count": 598,
   "metadata": {},
   "outputs": [
    {
     "data": {
      "text/html": [
       "<style>#sk-container-id-11 {\n",
       "  /* Definition of color scheme common for light and dark mode */\n",
       "  --sklearn-color-text: black;\n",
       "  --sklearn-color-line: gray;\n",
       "  /* Definition of color scheme for unfitted estimators */\n",
       "  --sklearn-color-unfitted-level-0: #fff5e6;\n",
       "  --sklearn-color-unfitted-level-1: #f6e4d2;\n",
       "  --sklearn-color-unfitted-level-2: #ffe0b3;\n",
       "  --sklearn-color-unfitted-level-3: chocolate;\n",
       "  /* Definition of color scheme for fitted estimators */\n",
       "  --sklearn-color-fitted-level-0: #f0f8ff;\n",
       "  --sklearn-color-fitted-level-1: #d4ebff;\n",
       "  --sklearn-color-fitted-level-2: #b3dbfd;\n",
       "  --sklearn-color-fitted-level-3: cornflowerblue;\n",
       "\n",
       "  /* Specific color for light theme */\n",
       "  --sklearn-color-text-on-default-background: var(--sg-text-color, var(--theme-code-foreground, var(--jp-content-font-color1, black)));\n",
       "  --sklearn-color-background: var(--sg-background-color, var(--theme-background, var(--jp-layout-color0, white)));\n",
       "  --sklearn-color-border-box: var(--sg-text-color, var(--theme-code-foreground, var(--jp-content-font-color1, black)));\n",
       "  --sklearn-color-icon: #696969;\n",
       "\n",
       "  @media (prefers-color-scheme: dark) {\n",
       "    /* Redefinition of color scheme for dark theme */\n",
       "    --sklearn-color-text-on-default-background: var(--sg-text-color, var(--theme-code-foreground, var(--jp-content-font-color1, white)));\n",
       "    --sklearn-color-background: var(--sg-background-color, var(--theme-background, var(--jp-layout-color0, #111)));\n",
       "    --sklearn-color-border-box: var(--sg-text-color, var(--theme-code-foreground, var(--jp-content-font-color1, white)));\n",
       "    --sklearn-color-icon: #878787;\n",
       "  }\n",
       "}\n",
       "\n",
       "#sk-container-id-11 {\n",
       "  color: var(--sklearn-color-text);\n",
       "}\n",
       "\n",
       "#sk-container-id-11 pre {\n",
       "  padding: 0;\n",
       "}\n",
       "\n",
       "#sk-container-id-11 input.sk-hidden--visually {\n",
       "  border: 0;\n",
       "  clip: rect(1px 1px 1px 1px);\n",
       "  clip: rect(1px, 1px, 1px, 1px);\n",
       "  height: 1px;\n",
       "  margin: -1px;\n",
       "  overflow: hidden;\n",
       "  padding: 0;\n",
       "  position: absolute;\n",
       "  width: 1px;\n",
       "}\n",
       "\n",
       "#sk-container-id-11 div.sk-dashed-wrapped {\n",
       "  border: 1px dashed var(--sklearn-color-line);\n",
       "  margin: 0 0.4em 0.5em 0.4em;\n",
       "  box-sizing: border-box;\n",
       "  padding-bottom: 0.4em;\n",
       "  background-color: var(--sklearn-color-background);\n",
       "}\n",
       "\n",
       "#sk-container-id-11 div.sk-container {\n",
       "  /* jupyter's `normalize.less` sets `[hidden] { display: none; }`\n",
       "     but bootstrap.min.css set `[hidden] { display: none !important; }`\n",
       "     so we also need the `!important` here to be able to override the\n",
       "     default hidden behavior on the sphinx rendered scikit-learn.org.\n",
       "     See: https://github.com/scikit-learn/scikit-learn/issues/21755 */\n",
       "  display: inline-block !important;\n",
       "  position: relative;\n",
       "}\n",
       "\n",
       "#sk-container-id-11 div.sk-text-repr-fallback {\n",
       "  display: none;\n",
       "}\n",
       "\n",
       "div.sk-parallel-item,\n",
       "div.sk-serial,\n",
       "div.sk-item {\n",
       "  /* draw centered vertical line to link estimators */\n",
       "  background-image: linear-gradient(var(--sklearn-color-text-on-default-background), var(--sklearn-color-text-on-default-background));\n",
       "  background-size: 2px 100%;\n",
       "  background-repeat: no-repeat;\n",
       "  background-position: center center;\n",
       "}\n",
       "\n",
       "/* Parallel-specific style estimator block */\n",
       "\n",
       "#sk-container-id-11 div.sk-parallel-item::after {\n",
       "  content: \"\";\n",
       "  width: 100%;\n",
       "  border-bottom: 2px solid var(--sklearn-color-text-on-default-background);\n",
       "  flex-grow: 1;\n",
       "}\n",
       "\n",
       "#sk-container-id-11 div.sk-parallel {\n",
       "  display: flex;\n",
       "  align-items: stretch;\n",
       "  justify-content: center;\n",
       "  background-color: var(--sklearn-color-background);\n",
       "  position: relative;\n",
       "}\n",
       "\n",
       "#sk-container-id-11 div.sk-parallel-item {\n",
       "  display: flex;\n",
       "  flex-direction: column;\n",
       "}\n",
       "\n",
       "#sk-container-id-11 div.sk-parallel-item:first-child::after {\n",
       "  align-self: flex-end;\n",
       "  width: 50%;\n",
       "}\n",
       "\n",
       "#sk-container-id-11 div.sk-parallel-item:last-child::after {\n",
       "  align-self: flex-start;\n",
       "  width: 50%;\n",
       "}\n",
       "\n",
       "#sk-container-id-11 div.sk-parallel-item:only-child::after {\n",
       "  width: 0;\n",
       "}\n",
       "\n",
       "/* Serial-specific style estimator block */\n",
       "\n",
       "#sk-container-id-11 div.sk-serial {\n",
       "  display: flex;\n",
       "  flex-direction: column;\n",
       "  align-items: center;\n",
       "  background-color: var(--sklearn-color-background);\n",
       "  padding-right: 1em;\n",
       "  padding-left: 1em;\n",
       "}\n",
       "\n",
       "\n",
       "/* Toggleable style: style used for estimator/Pipeline/ColumnTransformer box that is\n",
       "clickable and can be expanded/collapsed.\n",
       "- Pipeline and ColumnTransformer use this feature and define the default style\n",
       "- Estimators will overwrite some part of the style using the `sk-estimator` class\n",
       "*/\n",
       "\n",
       "/* Pipeline and ColumnTransformer style (default) */\n",
       "\n",
       "#sk-container-id-11 div.sk-toggleable {\n",
       "  /* Default theme specific background. It is overwritten whether we have a\n",
       "  specific estimator or a Pipeline/ColumnTransformer */\n",
       "  background-color: var(--sklearn-color-background);\n",
       "}\n",
       "\n",
       "/* Toggleable label */\n",
       "#sk-container-id-11 label.sk-toggleable__label {\n",
       "  cursor: pointer;\n",
       "  display: block;\n",
       "  width: 100%;\n",
       "  margin-bottom: 0;\n",
       "  padding: 0.5em;\n",
       "  box-sizing: border-box;\n",
       "  text-align: center;\n",
       "}\n",
       "\n",
       "#sk-container-id-11 label.sk-toggleable__label-arrow:before {\n",
       "  /* Arrow on the left of the label */\n",
       "  content: \"▸\";\n",
       "  float: left;\n",
       "  margin-right: 0.25em;\n",
       "  color: var(--sklearn-color-icon);\n",
       "}\n",
       "\n",
       "#sk-container-id-11 label.sk-toggleable__label-arrow:hover:before {\n",
       "  color: var(--sklearn-color-text);\n",
       "}\n",
       "\n",
       "/* Toggleable content - dropdown */\n",
       "\n",
       "#sk-container-id-11 div.sk-toggleable__content {\n",
       "  max-height: 0;\n",
       "  max-width: 0;\n",
       "  overflow: hidden;\n",
       "  text-align: left;\n",
       "  /* unfitted */\n",
       "  background-color: var(--sklearn-color-unfitted-level-0);\n",
       "}\n",
       "\n",
       "#sk-container-id-11 div.sk-toggleable__content.fitted {\n",
       "  /* fitted */\n",
       "  background-color: var(--sklearn-color-fitted-level-0);\n",
       "}\n",
       "\n",
       "#sk-container-id-11 div.sk-toggleable__content pre {\n",
       "  margin: 0.2em;\n",
       "  border-radius: 0.25em;\n",
       "  color: var(--sklearn-color-text);\n",
       "  /* unfitted */\n",
       "  background-color: var(--sklearn-color-unfitted-level-0);\n",
       "}\n",
       "\n",
       "#sk-container-id-11 div.sk-toggleable__content.fitted pre {\n",
       "  /* unfitted */\n",
       "  background-color: var(--sklearn-color-fitted-level-0);\n",
       "}\n",
       "\n",
       "#sk-container-id-11 input.sk-toggleable__control:checked~div.sk-toggleable__content {\n",
       "  /* Expand drop-down */\n",
       "  max-height: 200px;\n",
       "  max-width: 100%;\n",
       "  overflow: auto;\n",
       "}\n",
       "\n",
       "#sk-container-id-11 input.sk-toggleable__control:checked~label.sk-toggleable__label-arrow:before {\n",
       "  content: \"▾\";\n",
       "}\n",
       "\n",
       "/* Pipeline/ColumnTransformer-specific style */\n",
       "\n",
       "#sk-container-id-11 div.sk-label input.sk-toggleable__control:checked~label.sk-toggleable__label {\n",
       "  color: var(--sklearn-color-text);\n",
       "  background-color: var(--sklearn-color-unfitted-level-2);\n",
       "}\n",
       "\n",
       "#sk-container-id-11 div.sk-label.fitted input.sk-toggleable__control:checked~label.sk-toggleable__label {\n",
       "  background-color: var(--sklearn-color-fitted-level-2);\n",
       "}\n",
       "\n",
       "/* Estimator-specific style */\n",
       "\n",
       "/* Colorize estimator box */\n",
       "#sk-container-id-11 div.sk-estimator input.sk-toggleable__control:checked~label.sk-toggleable__label {\n",
       "  /* unfitted */\n",
       "  background-color: var(--sklearn-color-unfitted-level-2);\n",
       "}\n",
       "\n",
       "#sk-container-id-11 div.sk-estimator.fitted input.sk-toggleable__control:checked~label.sk-toggleable__label {\n",
       "  /* fitted */\n",
       "  background-color: var(--sklearn-color-fitted-level-2);\n",
       "}\n",
       "\n",
       "#sk-container-id-11 div.sk-label label.sk-toggleable__label,\n",
       "#sk-container-id-11 div.sk-label label {\n",
       "  /* The background is the default theme color */\n",
       "  color: var(--sklearn-color-text-on-default-background);\n",
       "}\n",
       "\n",
       "/* On hover, darken the color of the background */\n",
       "#sk-container-id-11 div.sk-label:hover label.sk-toggleable__label {\n",
       "  color: var(--sklearn-color-text);\n",
       "  background-color: var(--sklearn-color-unfitted-level-2);\n",
       "}\n",
       "\n",
       "/* Label box, darken color on hover, fitted */\n",
       "#sk-container-id-11 div.sk-label.fitted:hover label.sk-toggleable__label.fitted {\n",
       "  color: var(--sklearn-color-text);\n",
       "  background-color: var(--sklearn-color-fitted-level-2);\n",
       "}\n",
       "\n",
       "/* Estimator label */\n",
       "\n",
       "#sk-container-id-11 div.sk-label label {\n",
       "  font-family: monospace;\n",
       "  font-weight: bold;\n",
       "  display: inline-block;\n",
       "  line-height: 1.2em;\n",
       "}\n",
       "\n",
       "#sk-container-id-11 div.sk-label-container {\n",
       "  text-align: center;\n",
       "}\n",
       "\n",
       "/* Estimator-specific */\n",
       "#sk-container-id-11 div.sk-estimator {\n",
       "  font-family: monospace;\n",
       "  border: 1px dotted var(--sklearn-color-border-box);\n",
       "  border-radius: 0.25em;\n",
       "  box-sizing: border-box;\n",
       "  margin-bottom: 0.5em;\n",
       "  /* unfitted */\n",
       "  background-color: var(--sklearn-color-unfitted-level-0);\n",
       "}\n",
       "\n",
       "#sk-container-id-11 div.sk-estimator.fitted {\n",
       "  /* fitted */\n",
       "  background-color: var(--sklearn-color-fitted-level-0);\n",
       "}\n",
       "\n",
       "/* on hover */\n",
       "#sk-container-id-11 div.sk-estimator:hover {\n",
       "  /* unfitted */\n",
       "  background-color: var(--sklearn-color-unfitted-level-2);\n",
       "}\n",
       "\n",
       "#sk-container-id-11 div.sk-estimator.fitted:hover {\n",
       "  /* fitted */\n",
       "  background-color: var(--sklearn-color-fitted-level-2);\n",
       "}\n",
       "\n",
       "/* Specification for estimator info (e.g. \"i\" and \"?\") */\n",
       "\n",
       "/* Common style for \"i\" and \"?\" */\n",
       "\n",
       ".sk-estimator-doc-link,\n",
       "a:link.sk-estimator-doc-link,\n",
       "a:visited.sk-estimator-doc-link {\n",
       "  float: right;\n",
       "  font-size: smaller;\n",
       "  line-height: 1em;\n",
       "  font-family: monospace;\n",
       "  background-color: var(--sklearn-color-background);\n",
       "  border-radius: 1em;\n",
       "  height: 1em;\n",
       "  width: 1em;\n",
       "  text-decoration: none !important;\n",
       "  margin-left: 1ex;\n",
       "  /* unfitted */\n",
       "  border: var(--sklearn-color-unfitted-level-1) 1pt solid;\n",
       "  color: var(--sklearn-color-unfitted-level-1);\n",
       "}\n",
       "\n",
       ".sk-estimator-doc-link.fitted,\n",
       "a:link.sk-estimator-doc-link.fitted,\n",
       "a:visited.sk-estimator-doc-link.fitted {\n",
       "  /* fitted */\n",
       "  border: var(--sklearn-color-fitted-level-1) 1pt solid;\n",
       "  color: var(--sklearn-color-fitted-level-1);\n",
       "}\n",
       "\n",
       "/* On hover */\n",
       "div.sk-estimator:hover .sk-estimator-doc-link:hover,\n",
       ".sk-estimator-doc-link:hover,\n",
       "div.sk-label-container:hover .sk-estimator-doc-link:hover,\n",
       ".sk-estimator-doc-link:hover {\n",
       "  /* unfitted */\n",
       "  background-color: var(--sklearn-color-unfitted-level-3);\n",
       "  color: var(--sklearn-color-background);\n",
       "  text-decoration: none;\n",
       "}\n",
       "\n",
       "div.sk-estimator.fitted:hover .sk-estimator-doc-link.fitted:hover,\n",
       ".sk-estimator-doc-link.fitted:hover,\n",
       "div.sk-label-container:hover .sk-estimator-doc-link.fitted:hover,\n",
       ".sk-estimator-doc-link.fitted:hover {\n",
       "  /* fitted */\n",
       "  background-color: var(--sklearn-color-fitted-level-3);\n",
       "  color: var(--sklearn-color-background);\n",
       "  text-decoration: none;\n",
       "}\n",
       "\n",
       "/* Span, style for the box shown on hovering the info icon */\n",
       ".sk-estimator-doc-link span {\n",
       "  display: none;\n",
       "  z-index: 9999;\n",
       "  position: relative;\n",
       "  font-weight: normal;\n",
       "  right: .2ex;\n",
       "  padding: .5ex;\n",
       "  margin: .5ex;\n",
       "  width: min-content;\n",
       "  min-width: 20ex;\n",
       "  max-width: 50ex;\n",
       "  color: var(--sklearn-color-text);\n",
       "  box-shadow: 2pt 2pt 4pt #999;\n",
       "  /* unfitted */\n",
       "  background: var(--sklearn-color-unfitted-level-0);\n",
       "  border: .5pt solid var(--sklearn-color-unfitted-level-3);\n",
       "}\n",
       "\n",
       ".sk-estimator-doc-link.fitted span {\n",
       "  /* fitted */\n",
       "  background: var(--sklearn-color-fitted-level-0);\n",
       "  border: var(--sklearn-color-fitted-level-3);\n",
       "}\n",
       "\n",
       ".sk-estimator-doc-link:hover span {\n",
       "  display: block;\n",
       "}\n",
       "\n",
       "/* \"?\"-specific style due to the `<a>` HTML tag */\n",
       "\n",
       "#sk-container-id-11 a.estimator_doc_link {\n",
       "  float: right;\n",
       "  font-size: 1rem;\n",
       "  line-height: 1em;\n",
       "  font-family: monospace;\n",
       "  background-color: var(--sklearn-color-background);\n",
       "  border-radius: 1rem;\n",
       "  height: 1rem;\n",
       "  width: 1rem;\n",
       "  text-decoration: none;\n",
       "  /* unfitted */\n",
       "  color: var(--sklearn-color-unfitted-level-1);\n",
       "  border: var(--sklearn-color-unfitted-level-1) 1pt solid;\n",
       "}\n",
       "\n",
       "#sk-container-id-11 a.estimator_doc_link.fitted {\n",
       "  /* fitted */\n",
       "  border: var(--sklearn-color-fitted-level-1) 1pt solid;\n",
       "  color: var(--sklearn-color-fitted-level-1);\n",
       "}\n",
       "\n",
       "/* On hover */\n",
       "#sk-container-id-11 a.estimator_doc_link:hover {\n",
       "  /* unfitted */\n",
       "  background-color: var(--sklearn-color-unfitted-level-3);\n",
       "  color: var(--sklearn-color-background);\n",
       "  text-decoration: none;\n",
       "}\n",
       "\n",
       "#sk-container-id-11 a.estimator_doc_link.fitted:hover {\n",
       "  /* fitted */\n",
       "  background-color: var(--sklearn-color-fitted-level-3);\n",
       "}\n",
       "</style><div id=\"sk-container-id-11\" class=\"sk-top-container\"><div class=\"sk-text-repr-fallback\"><pre>LinearRegression()</pre><b>In a Jupyter environment, please rerun this cell to show the HTML representation or trust the notebook. <br />On GitHub, the HTML representation is unable to render, please try loading this page with nbviewer.org.</b></div><div class=\"sk-container\" hidden><div class=\"sk-item\"><div class=\"sk-estimator fitted sk-toggleable\"><input class=\"sk-toggleable__control sk-hidden--visually\" id=\"sk-estimator-id-11\" type=\"checkbox\" checked><label for=\"sk-estimator-id-11\" class=\"sk-toggleable__label fitted sk-toggleable__label-arrow fitted\">&nbsp;&nbsp;LinearRegression<a class=\"sk-estimator-doc-link fitted\" rel=\"noreferrer\" target=\"_blank\" href=\"https://scikit-learn.org/1.5/modules/generated/sklearn.linear_model.LinearRegression.html\">?<span>Documentation for LinearRegression</span></a><span class=\"sk-estimator-doc-link fitted\">i<span>Fitted</span></span></label><div class=\"sk-toggleable__content fitted\"><pre>LinearRegression()</pre></div> </div></div></div></div>"
      ],
      "text/plain": [
       "LinearRegression()"
      ]
     },
     "execution_count": 598,
     "metadata": {},
     "output_type": "execute_result"
    }
   ],
   "source": [
    "regressor.fit(X_train, y_train)"
   ]
  },
  {
   "cell_type": "code",
   "execution_count": 599,
   "metadata": {},
   "outputs": [
    {
     "data": {
      "text/plain": [
       "0.42471716949191973"
      ]
     },
     "execution_count": 599,
     "metadata": {},
     "output_type": "execute_result"
    }
   ],
   "source": [
    "regressor.score(X_train, y_train)"
   ]
  },
  {
   "cell_type": "code",
   "execution_count": 600,
   "metadata": {},
   "outputs": [
    {
     "name": "stdout",
     "output_type": "stream",
     "text": [
      "107361151725.7773 0.4278823957626381\n"
     ]
    }
   ],
   "source": [
    "from sklearn.metrics import mean_squared_error, r2_score\n",
    "\n",
    "y_pred = regressor.predict(X_test)\n",
    "mse = mean_squared_error(y_test, y_pred)\n",
    "r2 = r2_score(y_test, y_pred)\n",
    "\n",
    "print(mse, r2)"
   ]
  },
  {
   "cell_type": "code",
   "execution_count": 601,
   "metadata": {},
   "outputs": [
    {
     "name": "stdout",
     "output_type": "stream",
     "text": [
      "<class 'pandas.core.frame.DataFrame'>\n",
      "RangeIndex: 104475 entries, 0 to 104474\n",
      "Data columns (total 71 columns):\n",
      " #   Column                            Non-Null Count   Dtype  \n",
      "---  ------                            --------------   -----  \n",
      " 0   bathroom_count                    104475 non-null  int64  \n",
      " 1   bedroom_count                     104475 non-null  int64  \n",
      " 2   construction_year                 104475 non-null  int64  \n",
      " 3   garden                            104475 non-null  float64\n",
      " 4   living_area                       104475 non-null  int64  \n",
      " 5   number_of_facades                 104475 non-null  int64  \n",
      " 6   room_count                        104475 non-null  int64  \n",
      " 7   surface_of_plot                   104475 non-null  int64  \n",
      " 8   swimming_pool                     104475 non-null  float64\n",
      " 9   price                             104475 non-null  int64  \n",
      " 10  PEB_A                             104475 non-null  float64\n",
      " 11  PEB_A+                            104475 non-null  float64\n",
      " 12  PEB_A++                           104475 non-null  float64\n",
      " 13  PEB_B                             104475 non-null  float64\n",
      " 14  PEB_C                             104475 non-null  float64\n",
      " 15  PEB_D                             104475 non-null  float64\n",
      " 16  PEB_E                             104475 non-null  float64\n",
      " 17  PEB_F                             104475 non-null  float64\n",
      " 18  PEB_G                             104475 non-null  float64\n",
      " 19  state_of_building_AS_NEW          104475 non-null  float64\n",
      " 20  state_of_building_GOOD            104475 non-null  float64\n",
      " 21  state_of_building_JUST_RENOVATED  104475 non-null  float64\n",
      " 22  state_of_building_TO_BE_DONE_UP   104475 non-null  float64\n",
      " 23  state_of_building_TO_RENOVATE     104475 non-null  float64\n",
      " 24  state_of_building_TO_RESTORE      104475 non-null  float64\n",
      " 25  type_of_property_appartment       104475 non-null  float64\n",
      " 26  type_of_property_house            104475 non-null  float64\n",
      " 27  district_Aalst                    104475 non-null  float64\n",
      " 28  district_Antwerp                  104475 non-null  float64\n",
      " 29  district_Arlon                    104475 non-null  float64\n",
      " 30  district_Ath                      104475 non-null  float64\n",
      " 31  district_Bastogne                 104475 non-null  float64\n",
      " 32  district_Bruge                    104475 non-null  float64\n",
      " 33  district_Brugge                   104475 non-null  float64\n",
      " 34  district_Brussels                 104475 non-null  float64\n",
      " 35  district_Charleroi                104475 non-null  float64\n",
      " 36  district_Dendermonde              104475 non-null  float64\n",
      " 37  district_Diksmuide                104475 non-null  float64\n",
      " 38  district_Dinant                   104475 non-null  float64\n",
      " 39  district_Eeklo                    104475 non-null  float64\n",
      " 40  district_Gent                     104475 non-null  float64\n",
      " 41  district_Halle-Vilvoorde          104475 non-null  float64\n",
      " 42  district_Hasselt                  104475 non-null  float64\n",
      " 43  district_Huy                      104475 non-null  float64\n",
      " 44  district_Ieper                    104475 non-null  float64\n",
      " 45  district_Kortrijk                 104475 non-null  float64\n",
      " 46  district_Leuven                   104475 non-null  float64\n",
      " 47  district_Liège                    104475 non-null  float64\n",
      " 48  district_Maaseik                  104475 non-null  float64\n",
      " 49  district_Marche-en-Famenne        104475 non-null  float64\n",
      " 50  district_Mechelen                 104475 non-null  float64\n",
      " 51  district_Mons                     104475 non-null  float64\n",
      " 52  district_Mouscron                 104475 non-null  float64\n",
      " 53  district_Namur                    104475 non-null  float64\n",
      " 54  district_Neufchâteau              104475 non-null  float64\n",
      " 55  district_Nivelles                 104475 non-null  float64\n",
      " 56  district_Oostend                  104475 non-null  float64\n",
      " 57  district_Oudenaarde               104475 non-null  float64\n",
      " 58  district_Philippeville            104475 non-null  float64\n",
      " 59  district_Roeselare                104475 non-null  float64\n",
      " 60  district_Sint-Niklaas             104475 non-null  float64\n",
      " 61  district_Soignies                 104475 non-null  float64\n",
      " 62  district_Thuin                    104475 non-null  float64\n",
      " 63  district_Tielt                    104475 non-null  float64\n",
      " 64  district_Tongeren                 104475 non-null  float64\n",
      " 65  district_Tournai                  104475 non-null  float64\n",
      " 66  district_Turnhout                 104475 non-null  float64\n",
      " 67  district_Verviers                 104475 non-null  float64\n",
      " 68  district_Veurne                   104475 non-null  float64\n",
      " 69  district_Virton                   104475 non-null  float64\n",
      " 70  district_Waremme                  104475 non-null  float64\n",
      "dtypes: float64(63), int64(8)\n",
      "memory usage: 56.6 MB\n"
     ]
    }
   ],
   "source": [
    "df.info()"
   ]
  },
  {
   "cell_type": "code",
   "execution_count": 602,
   "metadata": {},
   "outputs": [],
   "source": [
    "features = df.drop(columns=['price']).to_numpy()\n",
    "\n",
    "ones = np.ones((df.shape[0],1))\n",
    "X = np.hstack((features, ones))\n",
    "y = df['price'].to_numpy().reshape(-1, 1)\n"
   ]
  },
  {
   "cell_type": "code",
   "execution_count": 603,
   "metadata": {},
   "outputs": [
    {
     "name": "stdout",
     "output_type": "stream",
     "text": [
      "(104475, 71)\n",
      "(104475, 1)\n"
     ]
    }
   ],
   "source": [
    "print(X.shape)\n",
    "print(y.shape)"
   ]
  },
  {
   "cell_type": "code",
   "execution_count": 604,
   "metadata": {},
   "outputs": [
    {
     "name": "stdout",
     "output_type": "stream",
     "text": [
      "[[0.18616923]\n",
      " [0.76701849]\n",
      " [0.01486973]\n",
      " [0.71123382]\n",
      " [0.26956975]\n",
      " [0.1314699 ]\n",
      " [0.42668795]\n",
      " [0.257736  ]\n",
      " [0.27155144]\n",
      " [0.10045435]\n",
      " [0.71868469]\n",
      " [0.23708546]\n",
      " [0.64706273]\n",
      " [0.87291163]\n",
      " [0.45326581]\n",
      " [0.89171282]\n",
      " [0.8966374 ]\n",
      " [0.90198469]\n",
      " [0.43326071]\n",
      " [0.82409234]\n",
      " [0.96684671]\n",
      " [0.73694673]\n",
      " [0.42846647]\n",
      " [0.56943579]\n",
      " [0.53653623]\n",
      " [0.91018408]\n",
      " [0.63114646]\n",
      " [0.30069538]\n",
      " [0.83004698]\n",
      " [0.81924625]\n",
      " [0.75289834]\n",
      " [0.39727399]\n",
      " [0.49219888]\n",
      " [0.23311045]\n",
      " [0.61364527]\n",
      " [0.32514327]\n",
      " [0.76509173]\n",
      " [0.14636928]\n",
      " [0.48113243]\n",
      " [0.64742167]\n",
      " [0.15878233]\n",
      " [0.64831705]\n",
      " [0.17558727]\n",
      " [0.58932742]\n",
      " [0.57451684]\n",
      " [0.12193196]\n",
      " [0.09204085]\n",
      " [0.17750221]\n",
      " [0.41483073]\n",
      " [0.27584296]\n",
      " [0.51710691]\n",
      " [0.02778276]\n",
      " [0.76055463]\n",
      " [0.79224151]\n",
      " [0.64496697]\n",
      " [0.566664  ]\n",
      " [0.44549142]\n",
      " [0.84322626]\n",
      " [0.26279439]\n",
      " [0.9842529 ]\n",
      " [0.13294258]\n",
      " [0.07763386]\n",
      " [0.94733392]\n",
      " [0.1512639 ]\n",
      " [0.45566386]\n",
      " [0.38838746]\n",
      " [0.22477659]\n",
      " [0.36660244]\n",
      " [0.06022847]\n",
      " [0.73922532]\n",
      " [0.96387147]]\n",
      "(71, 1)\n"
     ]
    }
   ],
   "source": [
    "theta = np.random.rand(X.shape[1],1).reshape(-1, 1)\n",
    "print(theta)\n",
    "print(theta.shape)"
   ]
  },
  {
   "cell_type": "code",
   "execution_count": 605,
   "metadata": {},
   "outputs": [],
   "source": [
    "def model(X, theta):\n",
    "    return X.dot(theta)"
   ]
  },
  {
   "cell_type": "code",
   "execution_count": 606,
   "metadata": {},
   "outputs": [],
   "source": [
    "def MSE(X,y, theta):\n",
    "    m = len(y)\n",
    "    y_pred = model(X,theta)\n",
    "    return 1/(2*m) * np.sum((y_pred- y)**2)"
   ]
  },
  {
   "cell_type": "code",
   "execution_count": 607,
   "metadata": {},
   "outputs": [
    {
     "name": "stdout",
     "output_type": "stream",
     "text": [
      "182083464676.01144\n"
     ]
    }
   ],
   "source": [
    "error = MSE(X,y,theta)\n",
    "print(error)"
   ]
  },
  {
   "cell_type": "markdown",
   "metadata": {},
   "source": [
    "### Gradient descent"
   ]
  },
  {
   "cell_type": "code",
   "execution_count": 608,
   "metadata": {},
   "outputs": [],
   "source": [
    "from sklearn.preprocessing import StandardScaler"
   ]
  },
  {
   "cell_type": "code",
   "execution_count": 609,
   "metadata": {},
   "outputs": [
    {
     "name": "stderr",
     "output_type": "stream",
     "text": [
      "/var/folders/89/6dhf64yn68jcjcpqqbkth7jr0000gn/T/ipykernel_21537/4261029846.py:12: RuntimeWarning: overflow encountered in square\n",
      "  cost = (1 / (2 * m)) * np.sum(np.square(errors))\n",
      "/Library/Frameworks/Python.framework/Versions/3.11/lib/python3.11/site-packages/numpy/_core/fromnumeric.py:86: RuntimeWarning: overflow encountered in reduce\n",
      "  return ufunc.reduce(obj, axis, dtype, out, **passkwargs)\n"
     ]
    },
    {
     "name": "stdout",
     "output_type": "stream",
     "text": [
      "Theta:\n",
      "[[nan]\n",
      " [nan]\n",
      " [nan]\n",
      " [nan]\n",
      " [nan]\n",
      " [nan]\n",
      " [nan]\n",
      " [nan]\n",
      " [nan]\n",
      " [nan]\n",
      " [nan]\n",
      " [nan]\n",
      " [nan]\n",
      " [nan]\n",
      " [nan]\n",
      " [nan]\n",
      " [nan]\n",
      " [nan]\n",
      " [nan]\n",
      " [nan]\n",
      " [nan]\n",
      " [nan]\n",
      " [nan]\n",
      " [nan]\n",
      " [nan]\n",
      " [nan]\n",
      " [nan]\n",
      " [nan]\n",
      " [nan]\n",
      " [nan]\n",
      " [nan]\n",
      " [nan]\n",
      " [nan]\n",
      " [nan]\n",
      " [nan]\n",
      " [nan]\n",
      " [nan]\n",
      " [nan]\n",
      " [nan]\n",
      " [nan]\n",
      " [nan]\n",
      " [nan]\n",
      " [nan]\n",
      " [nan]\n",
      " [nan]\n",
      " [nan]\n",
      " [nan]\n",
      " [nan]\n",
      " [nan]\n",
      " [nan]\n",
      " [nan]\n",
      " [nan]\n",
      " [nan]\n",
      " [nan]\n",
      " [nan]\n",
      " [nan]\n",
      " [nan]\n",
      " [nan]\n",
      " [nan]\n",
      " [nan]\n",
      " [nan]\n",
      " [nan]\n",
      " [nan]\n",
      " [nan]\n",
      " [nan]\n",
      " [nan]\n",
      " [nan]\n",
      " [nan]\n",
      " [nan]\n",
      " [nan]\n",
      " [nan]]\n",
      "Shape of theta: (71, 1)\n",
      "Final cost: nan\n"
     ]
    }
   ],
   "source": [
    "\n",
    "# Initialize parameters\n",
    "theta = np.random.rand(X.shape[1], 1)\n",
    "learning_rate = 0.5\n",
    "iterations = 100\n",
    "m = X.shape[0]  # Number of training examples\n",
    "\n",
    "# Gradient Descent\n",
    "def compute_cost(X, y, theta):\n",
    "    \"\"\"Compute the cost function for linear regression\"\"\"\n",
    "    predictions = X.dot(theta)\n",
    "    errors = predictions - y\n",
    "    cost = (1 / (2 * m)) * np.sum(np.square(errors))\n",
    "    return cost\n",
    "\n",
    "def gradient_descent(X, y, theta, learning_rate, iterations):\n",
    "    \"\"\"Perform gradient descent to learn theta\"\"\"\n",
    "    cost_history = np.zeros(iterations)\n",
    "    \n",
    "    for i in range(iterations):\n",
    "        predictions = X.dot(theta)\n",
    "        errors = predictions - y\n",
    "        gradients = (1 / m) * X.T.dot(errors)\n",
    "        theta -= learning_rate * gradients\n",
    "        cost_history[i] = compute_cost(X, y, theta)\n",
    "    \n",
    "    return theta, cost_history\n",
    "\n",
    "# Run gradient descent\n",
    "theta_final, cost_history = gradient_descent(X, y, theta, learning_rate, iterations)\n",
    "\n",
    "# Print the results\n",
    "print(\"Theta:\")\n",
    "print(theta_final)\n",
    "print(\"Shape of theta:\", theta.shape)\n",
    "print(\"Final cost:\", cost_history[-1])\n"
   ]
  },
  {
   "cell_type": "code",
   "execution_count": 386,
   "metadata": {},
   "outputs": [
    {
     "name": "stdout",
     "output_type": "stream",
     "text": [
      "nan\n"
     ]
    }
   ],
   "source": [
    "def compute_mae(X, y, theta):\n",
    "    predictions = X.dot(theta)\n",
    "    mae = np.mean(np.abs(predictions - y))\n",
    "    return mae\n",
    "mae = compute_mae(X, y, theta_final)\n",
    "print(mae)"
   ]
  },
  {
   "cell_type": "code",
   "execution_count": 387,
   "metadata": {},
   "outputs": [],
   "source": [
    "def coef_determination(y, pred):\n",
    "    u = ((y - pred)**2).sum()\n",
    "    v = ((y - y.mean())**2).sum()\n",
    "    return 1 - u/v"
   ]
  },
  {
   "cell_type": "code",
   "execution_count": 388,
   "metadata": {},
   "outputs": [
    {
     "data": {
      "text/plain": [
       "np.float64(nan)"
      ]
     },
     "execution_count": 388,
     "metadata": {},
     "output_type": "execute_result"
    }
   ],
   "source": [
    "predictions = model(X, theta_final)\n",
    "coef_determination(y, predictions)"
   ]
  },
  {
   "cell_type": "code",
   "execution_count": 389,
   "metadata": {},
   "outputs": [],
   "source": [
    "def grad(X, y, theta):\n",
    "    m = len(y)\n",
    "    y_pred = model(X, theta)\n",
    "    return (1 / (2 * m)) * np.sum(np.square(y_pred - y))"
   ]
  },
  {
   "cell_type": "code",
   "execution_count": 390,
   "metadata": {},
   "outputs": [],
   "source": [
    "def gradient_descent(X, y, theta, learning_rate, n_iterations):\n",
    "    cost_history = np.zeros(n_iterations)\n",
    "    \n",
    "    for i in range(0, n_iterations):\n",
    "        theta = theta - learning_rate * grad(X, y, theta) \n",
    "        cost_history[i] = MSE(X, y, theta) \n",
    "    return theta, cost_history"
   ]
  },
  {
   "cell_type": "code",
   "execution_count": 391,
   "metadata": {},
   "outputs": [],
   "source": [
    "n_iterations = 500\n",
    "learning_rate = 0.1\n"
   ]
  },
  {
   "cell_type": "code",
   "execution_count": 392,
   "metadata": {},
   "outputs": [
    {
     "name": "stdout",
     "output_type": "stream",
     "text": [
      "[[nan]\n",
      " [nan]\n",
      " [nan]\n",
      " [nan]\n",
      " [nan]\n",
      " [nan]\n",
      " [nan]\n",
      " [nan]\n",
      " [nan]\n",
      " [nan]\n",
      " [nan]\n",
      " [nan]\n",
      " [nan]\n",
      " [nan]\n",
      " [nan]\n",
      " [nan]\n",
      " [nan]\n",
      " [nan]\n",
      " [nan]\n",
      " [nan]\n",
      " [nan]\n",
      " [nan]\n",
      " [nan]\n",
      " [nan]\n",
      " [nan]\n",
      " [nan]\n",
      " [nan]\n",
      " [nan]\n",
      " [nan]\n",
      " [nan]\n",
      " [nan]\n",
      " [nan]\n",
      " [nan]\n",
      " [nan]\n",
      " [nan]\n",
      " [nan]\n",
      " [nan]\n",
      " [nan]\n",
      " [nan]\n",
      " [nan]\n",
      " [nan]\n",
      " [nan]\n",
      " [nan]\n",
      " [nan]\n",
      " [nan]\n",
      " [nan]\n",
      " [nan]\n",
      " [nan]\n",
      " [nan]\n",
      " [nan]\n",
      " [nan]\n",
      " [nan]\n",
      " [nan]\n",
      " [nan]\n",
      " [nan]\n",
      " [nan]\n",
      " [nan]\n",
      " [nan]\n",
      " [nan]\n",
      " [nan]\n",
      " [nan]\n",
      " [nan]\n",
      " [nan]\n",
      " [nan]\n",
      " [nan]\n",
      " [nan]\n",
      " [nan]\n",
      " [nan]\n",
      " [nan]\n",
      " [nan]]\n"
     ]
    }
   ],
   "source": [
    "theta_final, cost_history = gradient_descent(X, y, theta, learning_rate, n_iterations)\n",
    "print(theta_final)"
   ]
  },
  {
   "cell_type": "code",
   "execution_count": 393,
   "metadata": {},
   "outputs": [
    {
     "name": "stdout",
     "output_type": "stream",
     "text": [
      "nan\n"
     ]
    }
   ],
   "source": [
    "def compute_mae(X, y, theta):\n",
    "    predictions = X.dot(theta)\n",
    "    mae = np.mean(np.abs(predictions - y))\n",
    "    return mae\n",
    "mae = compute_mae(X, y, theta_final)\n",
    "print(mae)"
   ]
  },
  {
   "cell_type": "markdown",
   "metadata": {},
   "source": [
    "##GradientBoostingRegressor"
   ]
  },
  {
   "cell_type": "code",
   "execution_count": 647,
   "metadata": {},
   "outputs": [],
   "source": [
    "from sklearn.ensemble import GradientBoostingRegressor\n",
    "from sklearn.metrics import mean_absolute_error, r2_score"
   ]
  },
  {
   "cell_type": "code",
   "execution_count": 717,
   "metadata": {},
   "outputs": [],
   "source": [
    "# Split data into training and testing sets\n",
    "X_train, X_test, y_train, y_test = train_test_split(X, y, test_size=0.17, random_state=42)\n",
    "\n",
    "# Initialize and train the Gradient Boosting Regressor\n",
    "model = GradientBoostingRegressor(n_estimators=800, learning_rate=0.1, max_depth=7, random_state=42)\n",
    "model.fit(X_train, y_train.ravel())  # Flatten y_train to 1D array\n",
    "\n",
    "# Predict and calculate MAE\n",
    "train_predictions = model.predict(X_train)\n",
    "test_predictions = model.predict(X_test)\n",
    "train_mae = mean_absolute_error(y_train, train_predictions)\n",
    "test_mae = mean_absolute_error(y_test, test_predictions)"
   ]
  },
  {
   "cell_type": "code",
   "execution_count": 718,
   "metadata": {},
   "outputs": [
    {
     "name": "stdout",
     "output_type": "stream",
     "text": [
      "58532.38042106642\n",
      "76838.93364809445\n"
     ]
    }
   ],
   "source": [
    "print(train_mae)\n",
    "print(test_mae)"
   ]
  },
  {
   "cell_type": "code",
   "execution_count": 719,
   "metadata": {},
   "outputs": [
    {
     "name": "stdout",
     "output_type": "stream",
     "text": [
      "Training R2 Score: 0.7091230141058894\n",
      "Testing R2 Score: 0.5016689515028248\n"
     ]
    }
   ],
   "source": [
    "train_r2 = r2_score(y_train, train_predictions)\n",
    "test_r2 = r2_score(y_test, test_predictions)\n",
    "print(\"Training R2 Score:\", train_r2)\n",
    "print(\"Testing R2 Score:\", test_r2)"
   ]
  },
  {
   "cell_type": "markdown",
   "metadata": {},
   "source": [
    "##Random Forest "
   ]
  },
  {
   "cell_type": "code",
   "execution_count": 708,
   "metadata": {},
   "outputs": [],
   "source": [
    "from sklearn.ensemble import RandomForestRegressor"
   ]
  },
  {
   "cell_type": "code",
   "execution_count": 713,
   "metadata": {},
   "outputs": [],
   "source": [
    "\n",
    "# Split data into training and testing sets\n",
    "X_train, X_test, y_train, y_test = train_test_split(X, y, test_size=0.17, random_state=0)\n",
    "model = RandomForestRegressor(n_estimators=400, random_state=0)\n",
    "model.fit(X_train, y_train.ravel())  # Flatten y_train to 1D array\n",
    "\n",
    "# Predict and calculate MAE\n",
    "train_predictions = model.predict(X_train)\n",
    "test_predictions = model.predict(X_test)\n",
    "train_mae = mean_absolute_error(y_train, train_predictions)\n",
    "test_mae = mean_absolute_error(y_test, test_predictions)\n",
    "\n",
    "# Calculate R2 score\n",
    "train_r2 = r2_score(y_train, train_predictions)\n",
    "test_r2 = r2_score(y_test, test_predictions)\n"
   ]
  },
  {
   "cell_type": "code",
   "execution_count": 714,
   "metadata": {},
   "outputs": [
    {
     "name": "stdout",
     "output_type": "stream",
     "text": [
      "Training Mean Absolute Error (MAE): 28566.32781780476\n",
      "Testing Mean Absolute Error (MAE): 75386.87599207646\n",
      "Training R2 Score: 0.9265580480423877\n",
      "Testing R2 Score: 0.4958049300128694\n"
     ]
    }
   ],
   "source": [
    "print(\"Training Mean Absolute Error (MAE):\", train_mae)\n",
    "print(\"Testing Mean Absolute Error (MAE):\", test_mae)\n",
    "print(\"Training R2 Score:\", train_r2)\n",
    "print(\"Testing R2 Score:\", test_r2)"
   ]
  },
  {
   "cell_type": "markdown",
   "metadata": {},
   "source": [
    "##XGBoost"
   ]
  },
  {
   "cell_type": "code",
   "execution_count": 654,
   "metadata": {},
   "outputs": [],
   "source": [
    "from xgboost import XGBRegressor"
   ]
  },
  {
   "cell_type": "code",
   "execution_count": 706,
   "metadata": {},
   "outputs": [],
   "source": [
    "# Split data into training and testing sets\n",
    "X_train, X_test, y_train, y_test = train_test_split(X, y, test_size=0.17, random_state=0)\n",
    "model = XGBRegressor(n_estimators=420, learning_rate=0.05, max_depth=9, random_state=0)\n",
    "model.fit(X_train, y_train.ravel())  # Flatten y_train to 1D array\n",
    "\n",
    "# Predict and calculate MAE\n",
    "train_predictions = model.predict(X_train)\n",
    "test_predictions = model.predict(X_test)\n",
    "train_mae = mean_absolute_error(y_train, train_predictions)\n",
    "test_mae = mean_absolute_error(y_test, test_predictions)\n",
    "\n",
    "# Calculate R2 score\n",
    "train_r2 = r2_score(y_train, train_predictions)\n",
    "test_r2 = r2_score(y_test, test_predictions)\n"
   ]
  },
  {
   "cell_type": "code",
   "execution_count": 707,
   "metadata": {},
   "outputs": [
    {
     "name": "stdout",
     "output_type": "stream",
     "text": [
      "Training Mean Absolute Error (MAE): 63101.181405157266\n",
      "Testing Mean Absolute Error (MAE): 76378.88588539595\n",
      "Training R2 Score: 0.6590145029772491\n",
      "Testing R2 Score: 0.49908707249120776\n"
     ]
    }
   ],
   "source": [
    "print(\"Training Mean Absolute Error (MAE):\", train_mae)\n",
    "print(\"Testing Mean Absolute Error (MAE):\", test_mae)\n",
    "print(\"Training R2 Score:\", train_r2)\n",
    "print(\"Testing R2 Score:\", test_r2)"
   ]
  },
  {
   "cell_type": "markdown",
   "metadata": {},
   "source": [
    "#Rigid regression"
   ]
  },
  {
   "cell_type": "code",
   "execution_count": 618,
   "metadata": {},
   "outputs": [],
   "source": [
    "from sklearn.linear_model import Ridge"
   ]
  },
  {
   "cell_type": "code",
   "execution_count": 619,
   "metadata": {},
   "outputs": [
    {
     "name": "stdout",
     "output_type": "stream",
     "text": [
      "Ridge Regression Train MAE: 139618.95402230628\n",
      "Ridge Regression Test MAE: 141116.52180941156\n"
     ]
    }
   ],
   "source": [
    "# Split data into training and test sets\n",
    "X_train, X_test, y_train, y_test = train_test_split(X, y, test_size=0.2, random_state=0)\n",
    "\n",
    "# Train a Ridge Regression model\n",
    "ridge = Ridge(alpha=1000)  # You can adjust the alpha parameter\n",
    "ridge.fit(X_train, y_train)\n",
    "\n",
    "# Make predictions\n",
    "train_predictions = ridge.predict(X_train)\n",
    "test_predictions = ridge.predict(X_test)\n",
    "\n",
    "# Evaluate performance\n",
    "train_mae = mean_absolute_error(y_train, train_predictions)\n",
    "test_mae = mean_absolute_error(y_test, test_predictions)\n",
    "\n",
    "print(\"Ridge Regression Train MAE:\", train_mae)\n",
    "print(\"Ridge Regression Test MAE:\", test_mae)"
   ]
  }
 ],
 "metadata": {
  "kernelspec": {
   "display_name": "Python 3",
   "language": "python",
   "name": "python3"
  },
  "language_info": {
   "codemirror_mode": {
    "name": "ipython",
    "version": 3
   },
   "file_extension": ".py",
   "mimetype": "text/x-python",
   "name": "python",
   "nbconvert_exporter": "python",
   "pygments_lexer": "ipython3",
   "version": "3.11.7"
  }
 },
 "nbformat": 4,
 "nbformat_minor": 2
}
