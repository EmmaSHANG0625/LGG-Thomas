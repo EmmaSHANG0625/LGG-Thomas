{
 "cells": [
  {
   "cell_type": "code",
   "execution_count": 31,
   "metadata": {},
   "outputs": [],
   "source": [
    "import pandas as pd"
   ]
  },
  {
   "cell_type": "code",
   "execution_count": 32,
   "metadata": {},
   "outputs": [],
   "source": [
    "df = pd.read_csv('Hui.csv')"
   ]
  },
  {
   "cell_type": "code",
   "execution_count": 33,
   "metadata": {},
   "outputs": [
    {
     "name": "stdout",
     "output_type": "stream",
     "text": [
      "<class 'pandas.core.frame.DataFrame'>\n",
      "RangeIndex: 104475 entries, 0 to 104474\n",
      "Data columns (total 30 columns):\n",
      " #   Column                Non-Null Count   Dtype  \n",
      "---  ------                --------------   -----  \n",
      " 0   Unnamed: 0.1          104475 non-null  int64  \n",
      " 1   Unnamed: 0            104475 non-null  int64  \n",
      " 2   Url                   104475 non-null  object \n",
      " 3   bathroom_count        104475 non-null  int64  \n",
      " 4   bedroom_count         104475 non-null  int64  \n",
      " 5   construction_year     104475 non-null  int64  \n",
      " 6   district              104475 non-null  object \n",
      " 7   flooding_zone         53257 non-null   object \n",
      " 8   garden                104475 non-null  float64\n",
      " 9   garden_area           20373 non-null   float64\n",
      " 10  kitchen               57610 non-null   object \n",
      " 11  living_area           104475 non-null  int64  \n",
      " 12  number_of_facades     104475 non-null  int64  \n",
      " 13  PEB                   74065 non-null   object \n",
      " 14  postal_code           104475 non-null  int64  \n",
      " 15  property_id           104475 non-null  int64  \n",
      " 16  province              104473 non-null  object \n",
      " 17  region                104475 non-null  object \n",
      " 18  room_count            104475 non-null  int64  \n",
      " 19  state_of_building     71175 non-null   object \n",
      " 20  subtype_of_property   104475 non-null  object \n",
      " 21  surface_of_plot       104475 non-null  int64  \n",
      " 22  swimming_pool         104475 non-null  float64\n",
      " 23  terrace               60359 non-null   float64\n",
      " 24  toilet_count          84410 non-null   float64\n",
      " 25  type_of_property      104475 non-null  int64  \n",
      " 26  type_of_sale          104475 non-null  object \n",
      " 27  PEB_grade             104475 non-null  int64  \n",
      " 28  Building_state_grade  104475 non-null  int64  \n",
      " 29  price                 104475 non-null  int64  \n",
      "dtypes: float64(5), int64(15), object(10)\n",
      "memory usage: 23.9+ MB\n"
     ]
    }
   ],
   "source": [
    "df.info()"
   ]
  },
  {
   "cell_type": "code",
   "execution_count": 34,
   "metadata": {},
   "outputs": [],
   "source": [
    "# Calculate the quartiles and the interquartile range (IQR)\n",
    "Q1 = df['price'].quantile(0.25)\n",
    "Q3 = df['price'].quantile(0.75)\n",
    "IQR = Q3 - Q1\n",
    "\n",
    "# Define the outlier boundaries\n",
    "lower_bound = Q1 - 1.5 * IQR\n",
    "upper_bound = Q3 + 1.5 * IQR\n",
    "\n",
    "# Filter out the outliers\n",
    "df = df[(df['price'] >= lower_bound) & (df['price'] <= upper_bound)]"
   ]
  },
  {
   "cell_type": "code",
   "execution_count": 35,
   "metadata": {},
   "outputs": [
    {
     "data": {
      "text/plain": [
       "96305"
      ]
     },
     "execution_count": 35,
     "metadata": {},
     "output_type": "execute_result"
    }
   ],
   "source": [
    "len(df['price'])"
   ]
  },
  {
   "cell_type": "code",
   "execution_count": 36,
   "metadata": {},
   "outputs": [],
   "source": [
    "#drop the columns no need\n",
    "\n",
    "\n",
    "del df['Url']\n",
    "\n",
    "del df['flooding_zone']\n",
    "del df['garden_area']\n",
    "del df['kitchen']\n",
    "\n",
    "del df['postal_code']\n",
    "del df['region']\n",
    "\n",
    "\n"
   ]
  },
  {
   "cell_type": "code",
   "execution_count": 37,
   "metadata": {},
   "outputs": [],
   "source": [
    "del df['PEB']"
   ]
  },
  {
   "cell_type": "code",
   "execution_count": 38,
   "metadata": {},
   "outputs": [],
   "source": [
    "\n",
    "del df['state_of_building']"
   ]
  },
  {
   "cell_type": "code",
   "execution_count": 39,
   "metadata": {},
   "outputs": [
    {
     "name": "stdout",
     "output_type": "stream",
     "text": [
      "<class 'pandas.core.frame.DataFrame'>\n",
      "Index: 96305 entries, 0 to 104474\n",
      "Data columns (total 22 columns):\n",
      " #   Column                Non-Null Count  Dtype  \n",
      "---  ------                --------------  -----  \n",
      " 0   Unnamed: 0.1          96305 non-null  int64  \n",
      " 1   Unnamed: 0            96305 non-null  int64  \n",
      " 2   bathroom_count        96305 non-null  int64  \n",
      " 3   bedroom_count         96305 non-null  int64  \n",
      " 4   construction_year     96305 non-null  int64  \n",
      " 5   district              96305 non-null  object \n",
      " 6   garden                96305 non-null  float64\n",
      " 7   living_area           96305 non-null  int64  \n",
      " 8   number_of_facades     96305 non-null  int64  \n",
      " 9   property_id           96305 non-null  int64  \n",
      " 10  province              96303 non-null  object \n",
      " 11  room_count            96305 non-null  int64  \n",
      " 12  subtype_of_property   96305 non-null  object \n",
      " 13  surface_of_plot       96305 non-null  int64  \n",
      " 14  swimming_pool         96305 non-null  float64\n",
      " 15  terrace               55280 non-null  float64\n",
      " 16  toilet_count          77715 non-null  float64\n",
      " 17  type_of_property      96305 non-null  int64  \n",
      " 18  type_of_sale          96305 non-null  object \n",
      " 19  PEB_grade             96305 non-null  int64  \n",
      " 20  Building_state_grade  96305 non-null  int64  \n",
      " 21  price                 96305 non-null  int64  \n",
      "dtypes: float64(4), int64(14), object(4)\n",
      "memory usage: 16.9+ MB\n"
     ]
    }
   ],
   "source": [
    "df.info()"
   ]
  },
  {
   "cell_type": "code",
   "execution_count": 40,
   "metadata": {},
   "outputs": [],
   "source": [
    "\n",
    "del df['subtype_of_property']\n",
    "\n",
    "del df['terrace']\n",
    "del df['toilet_count']\n",
    "del df['type_of_sale']"
   ]
  },
  {
   "cell_type": "code",
   "execution_count": 41,
   "metadata": {},
   "outputs": [],
   "source": [
    "import numpy as np"
   ]
  },
  {
   "cell_type": "code",
   "execution_count": 42,
   "metadata": {},
   "outputs": [],
   "source": [
    "from sklearn.preprocessing import OneHotEncoder"
   ]
  },
  {
   "cell_type": "code",
   "execution_count": 43,
   "metadata": {},
   "outputs": [],
   "source": [
    "df.to_csv(\"Data for Machine Learning.csv\", index = True)"
   ]
  },
  {
   "cell_type": "code",
   "execution_count": 44,
   "metadata": {},
   "outputs": [
    {
     "name": "stdout",
     "output_type": "stream",
     "text": [
      "number_of_facades\n",
      "3    28569\n",
      "2    14336\n",
      "4     3694\n",
      "1      313\n",
      "Name: count, dtype: int64\n"
     ]
    }
   ],
   "source": [
    "filtered_df = df[df['type_of_property'] == 2]\n",
    "facades_distribution_appartment = filtered_df['number_of_facades'].value_counts()\n",
    "print(facades_distribution_appartment)"
   ]
  },
  {
   "cell_type": "code",
   "execution_count": 45,
   "metadata": {},
   "outputs": [
    {
     "name": "stderr",
     "output_type": "stream",
     "text": [
      "/var/folders/89/6dhf64yn68jcjcpqqbkth7jr0000gn/T/ipykernel_28783/3403312050.py:2: FutureWarning: Setting an item of incompatible dtype is deprecated and will raise an error in a future version of pandas. Value 'house' has dtype incompatible with int64, please explicitly cast to a compatible dtype first.\n",
      "  df.loc[df['type_of_property'] == 1, 'type_of_property'] = 'house'\n"
     ]
    }
   ],
   "source": [
    "#convert 'type_of_property'] into str\n",
    "df.loc[df['type_of_property'] == 1, 'type_of_property'] = 'house'\n",
    "df.loc[df['type_of_property'] == 2, 'type_of_property'] = 'appartment'\n",
    "df.to_csv(\"Data for Machine Learning.csv\", index = True)\n"
   ]
  },
  {
   "cell_type": "code",
   "execution_count": 46,
   "metadata": {},
   "outputs": [],
   "source": [
    "#creat OneHot vector\n",
    "df_type = df[['type_of_property']]\n",
    "encoder_type = OneHotEncoder()\n",
    "df_type_1hot = encoder_type.fit_transform(df_type)\n",
    "# 将稀疏矩阵转换为密集数组\n",
    "df_type_1hot_array = df_type_1hot.toarray()"
   ]
  },
  {
   "cell_type": "code",
   "execution_count": 47,
   "metadata": {},
   "outputs": [],
   "source": [
    "# 获取独热编码后的列名\n",
    "encoded_columns = encoder_type.get_feature_names_out(['type_of_property'])\n",
    "\n",
    "# 将独热编码数组转换为 DataFrame\n",
    "df_type_1hot_df = pd.DataFrame(df_type_1hot_array, columns=encoded_columns)\n",
    "\n",
    "# 将原始 DataFrame 与独热编码后的 DataFrame 合并\n",
    "df = pd.concat([df, df_type_1hot_df], axis=1)\n",
    "\n",
    "df.to_csv(\"Data for Machine Learning.csv\", index = True)"
   ]
  },
  {
   "cell_type": "code",
   "execution_count": 48,
   "metadata": {},
   "outputs": [],
   "source": [
    "#creat OneHot vector\n",
    "df_district = df[['district']]\n",
    "encoder_district = OneHotEncoder()\n",
    "df_district_1hot = encoder_district.fit_transform(df_district)\n",
    "# 将稀疏矩阵转换为密集数组\n",
    "df_district_1hot_array = df_district_1hot.toarray()"
   ]
  },
  {
   "cell_type": "code",
   "execution_count": 49,
   "metadata": {},
   "outputs": [],
   "source": [
    "# 获取独热编码后的列名\n",
    "encoded_columns = encoder_district.get_feature_names_out(['district'])\n",
    "\n",
    "# 将独热编码数组转换为 DataFrame\n",
    "df_district_1hot_df = pd.DataFrame(df_district_1hot_array, columns=encoded_columns)\n",
    "\n",
    "# 将原始 DataFrame 与独热编码后的 DataFrame 合并\n",
    "df = pd.concat([df, df_district_1hot_df], axis=1)\n",
    "\n",
    "df.to_csv(\"Data for Machine Learning.csv\", index = True)"
   ]
  },
  {
   "cell_type": "code",
   "execution_count": 50,
   "metadata": {},
   "outputs": [
    {
     "name": "stdout",
     "output_type": "stream",
     "text": [
      "<class 'pandas.core.frame.DataFrame'>\n",
      "Index: 104442 entries, 0 to 103826\n",
      "Data columns (total 65 columns):\n",
      " #   Column                       Non-Null Count   Dtype  \n",
      "---  ------                       --------------   -----  \n",
      " 0   Unnamed: 0.1                 96305 non-null   float64\n",
      " 1   Unnamed: 0                   96305 non-null   float64\n",
      " 2   bathroom_count               96305 non-null   float64\n",
      " 3   bedroom_count                96305 non-null   float64\n",
      " 4   construction_year            96305 non-null   float64\n",
      " 5   district                     96305 non-null   object \n",
      " 6   garden                       96305 non-null   float64\n",
      " 7   living_area                  96305 non-null   float64\n",
      " 8   number_of_facades            96305 non-null   float64\n",
      " 9   property_id                  96305 non-null   float64\n",
      " 10  province                     96303 non-null   object \n",
      " 11  room_count                   96305 non-null   float64\n",
      " 12  surface_of_plot              96305 non-null   float64\n",
      " 13  swimming_pool                96305 non-null   float64\n",
      " 14  type_of_property             96305 non-null   object \n",
      " 15  PEB_grade                    96305 non-null   float64\n",
      " 16  Building_state_grade         96305 non-null   float64\n",
      " 17  price                        96305 non-null   float64\n",
      " 18  type_of_property_appartment  96305 non-null   float64\n",
      " 19  type_of_property_house       96305 non-null   float64\n",
      " 20  district_Aalst               103886 non-null  float64\n",
      " 21  district_Antwerp             103886 non-null  float64\n",
      " 22  district_Arlon               103886 non-null  float64\n",
      " 23  district_Ath                 103886 non-null  float64\n",
      " 24  district_Bastogne            103886 non-null  float64\n",
      " 25  district_Bruge               103886 non-null  float64\n",
      " 26  district_Brugge              103886 non-null  float64\n",
      " 27  district_Brussels            103886 non-null  float64\n",
      " 28  district_Charleroi           103886 non-null  float64\n",
      " 29  district_Dendermonde         103886 non-null  float64\n",
      " 30  district_Diksmuide           103886 non-null  float64\n",
      " 31  district_Dinant              103886 non-null  float64\n",
      " 32  district_Eeklo               103886 non-null  float64\n",
      " 33  district_Gent                103886 non-null  float64\n",
      " 34  district_Halle-Vilvoorde     103886 non-null  float64\n",
      " 35  district_Hasselt             103886 non-null  float64\n",
      " 36  district_Huy                 103886 non-null  float64\n",
      " 37  district_Ieper               103886 non-null  float64\n",
      " 38  district_Kortrijk            103886 non-null  float64\n",
      " 39  district_Leuven              103886 non-null  float64\n",
      " 40  district_Liège               103886 non-null  float64\n",
      " 41  district_Maaseik             103886 non-null  float64\n",
      " 42  district_Marche-en-Famenne   103886 non-null  float64\n",
      " 43  district_Mechelen            103886 non-null  float64\n",
      " 44  district_Mons                103886 non-null  float64\n",
      " 45  district_Mouscron            103886 non-null  float64\n",
      " 46  district_Namur               103886 non-null  float64\n",
      " 47  district_Neufchâteau         103886 non-null  float64\n",
      " 48  district_Nivelles            103886 non-null  float64\n",
      " 49  district_Oostend             103886 non-null  float64\n",
      " 50  district_Oudenaarde          103886 non-null  float64\n",
      " 51  district_Philippeville       103886 non-null  float64\n",
      " 52  district_Roeselare           103886 non-null  float64\n",
      " 53  district_Sint-Niklaas        103886 non-null  float64\n",
      " 54  district_Soignies            103886 non-null  float64\n",
      " 55  district_Thuin               103886 non-null  float64\n",
      " 56  district_Tielt               103886 non-null  float64\n",
      " 57  district_Tongeren            103886 non-null  float64\n",
      " 58  district_Tournai             103886 non-null  float64\n",
      " 59  district_Turnhout            103886 non-null  float64\n",
      " 60  district_Verviers            103886 non-null  float64\n",
      " 61  district_Veurne              103886 non-null  float64\n",
      " 62  district_Virton              103886 non-null  float64\n",
      " 63  district_Waremme             103886 non-null  float64\n",
      " 64  district_nan                 103886 non-null  float64\n",
      "dtypes: float64(62), object(3)\n",
      "memory usage: 52.6+ MB\n"
     ]
    }
   ],
   "source": [
    "df.info()"
   ]
  },
  {
   "cell_type": "code",
   "execution_count": 25,
   "metadata": {},
   "outputs": [],
   "source": [
    "del df['Unnamed: 0.1']\n",
    "del df['Unnamed: 0']"
   ]
  },
  {
   "cell_type": "code",
   "execution_count": 51,
   "metadata": {},
   "outputs": [],
   "source": [
    "del df['district']\n",
    "del df['district_nan']\n",
    "\n",
    "del df['property_id']\n",
    "del df['province']\n",
    "del df['type_of_property']\n"
   ]
  },
  {
   "cell_type": "code",
   "execution_count": 52,
   "metadata": {},
   "outputs": [],
   "source": [
    "df.to_csv(\"Data for Machine Learning.csv\", index = True)"
   ]
  }
 ],
 "metadata": {
  "kernelspec": {
   "display_name": "Python 3",
   "language": "python",
   "name": "python3"
  },
  "language_info": {
   "codemirror_mode": {
    "name": "ipython",
    "version": 3
   },
   "file_extension": ".py",
   "mimetype": "text/x-python",
   "name": "python",
   "nbconvert_exporter": "python",
   "pygments_lexer": "ipython3",
   "version": "3.11.7"
  }
 },
 "nbformat": 4,
 "nbformat_minor": 2
}
